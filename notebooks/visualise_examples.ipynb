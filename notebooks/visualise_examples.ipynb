{
 "cells": [
  {
   "cell_type": "code",
   "execution_count": 1,
   "id": "b65aaee1-33fb-48d3-8fb7-e86c3e5fbd59",
   "metadata": {},
   "outputs": [
    {
     "name": "stderr",
     "output_type": "stream",
     "text": [
      "/tmp/ipykernel_1506242/2590453881.py:4: DeprecationWarning: \n",
      "Pyarrow will become a required dependency of pandas in the next major release of pandas (pandas 3.0),\n",
      "(to allow more performant data types, such as the Arrow string type, and better interoperability with other libraries)\n",
      "but was not found to be installed on your system.\n",
      "If this would cause problems for you,\n",
      "please provide us feedback at https://github.com/pandas-dev/pandas/issues/54466\n",
      "        \n",
      "  import pandas as pd\n"
     ]
    }
   ],
   "source": [
    "%reload_ext autoreload\n",
    "%autoreload 2\n",
    "\n",
    "import pandas as pd\n",
    "import matplotlib\n",
    "import matplotlib.pyplot as plt"
   ]
  },
  {
   "cell_type": "code",
   "execution_count": 2,
   "id": "b78f9346-2f1f-4c14-a84b-e9580889ae6d",
   "metadata": {},
   "outputs": [],
   "source": [
    "import spacy\n",
    "nlp = spacy.load('en_core_web_lg')\n",
    "\n",
    "from spacy import displacy"
   ]
  },
  {
   "cell_type": "code",
   "execution_count": 3,
   "id": "23c0dff0-509f-400d-a5da-e9544d343956",
   "metadata": {},
   "outputs": [
    {
     "name": "stderr",
     "output_type": "stream",
     "text": [
      "2024-06-20 15:31:51.195502: I tensorflow/core/util/port.cc:113] oneDNN custom operations are on. You may see slightly different numerical results due to floating-point round-off errors from different computation orders. To turn them off, set the environment variable `TF_ENABLE_ONEDNN_OPTS=0`.\n",
      "2024-06-20 15:31:51.210178: E external/local_xla/xla/stream_executor/cuda/cuda_dnn.cc:9261] Unable to register cuDNN factory: Attempting to register factory for plugin cuDNN when one has already been registered\n",
      "2024-06-20 15:31:51.210192: E external/local_xla/xla/stream_executor/cuda/cuda_fft.cc:607] Unable to register cuFFT factory: Attempting to register factory for plugin cuFFT when one has already been registered\n",
      "2024-06-20 15:31:51.210879: E external/local_xla/xla/stream_executor/cuda/cuda_blas.cc:1515] Unable to register cuBLAS factory: Attempting to register factory for plugin cuBLAS when one has already been registered\n",
      "2024-06-20 15:31:51.214288: I tensorflow/core/platform/cpu_feature_guard.cc:182] This TensorFlow binary is optimized to use available CPU instructions in performance-critical operations.\n",
      "To enable the following instructions: AVX2 AVX512F AVX512_VNNI AVX512_BF16 FMA, in other operations, rebuild TensorFlow with the appropriate compiler flags.\n",
      "2024-06-20 15:31:51.665517: W tensorflow/compiler/tf2tensorrt/utils/py_utils.cc:38] TF-TRT Warning: Could not find TensorRT\n",
      "2024-06-20 15:31:52.164008: I external/local_xla/xla/stream_executor/cuda/cuda_executor.cc:901] successful NUMA node read from SysFS had negative value (-1), but there must be at least one NUMA node, so returning NUMA node zero. See more at https://github.com/torvalds/linux/blob/v6.0/Documentation/ABI/testing/sysfs-bus-pci#L344-L355\n",
      "2024-06-20 15:31:52.164595: I external/local_xla/xla/stream_executor/cuda/cuda_executor.cc:901] successful NUMA node read from SysFS had negative value (-1), but there must be at least one NUMA node, so returning NUMA node zero. See more at https://github.com/torvalds/linux/blob/v6.0/Documentation/ABI/testing/sysfs-bus-pci#L344-L355\n",
      "2024-06-20 15:31:52.164668: I external/local_xla/xla/stream_executor/cuda/cuda_executor.cc:901] successful NUMA node read from SysFS had negative value (-1), but there must be at least one NUMA node, so returning NUMA node zero. See more at https://github.com/torvalds/linux/blob/v6.0/Documentation/ABI/testing/sysfs-bus-pci#L344-L355\n"
     ]
    }
   ],
   "source": [
    "%%capture\n",
    "\n",
    "import sys\n",
    "sys.path.append('../src/')\n",
    "\n",
    "from model_ner import HUGFACE_NER\n",
    "from AIONER_Run import ML_Tag "
   ]
  },
  {
   "cell_type": "code",
   "execution_count": 4,
   "id": "3dd2d022-529b-406a-a329-b67df376bf76",
   "metadata": {},
   "outputs": [],
   "source": [
    "texts = pd.read_csv('../data/PubMed_Jun24/PubMed_Jun24.csv').sample(10).reset_index(drop=True)\n",
    "texts['text'] = texts['title'] + ' ' + texts['abstract']"
   ]
  },
  {
   "cell_type": "code",
   "execution_count": 5,
   "id": "b5283416-85fe-4dda-8ae0-a46dc75e57e9",
   "metadata": {},
   "outputs": [
    {
     "data": {
      "text/html": [
       "<div>\n",
       "<style scoped>\n",
       "    .dataframe tbody tr th:only-of-type {\n",
       "        vertical-align: middle;\n",
       "    }\n",
       "\n",
       "    .dataframe tbody tr th {\n",
       "        vertical-align: top;\n",
       "    }\n",
       "\n",
       "    .dataframe thead th {\n",
       "        text-align: right;\n",
       "    }\n",
       "</style>\n",
       "<table border=\"1\" class=\"dataframe\">\n",
       "  <thead>\n",
       "    <tr style=\"text-align: right;\">\n",
       "      <th></th>\n",
       "      <th>pmid</th>\n",
       "      <th>title</th>\n",
       "      <th>abstract</th>\n",
       "      <th>text</th>\n",
       "    </tr>\n",
       "  </thead>\n",
       "  <tbody>\n",
       "    <tr>\n",
       "      <th>0</th>\n",
       "      <td>38886960</td>\n",
       "      <td>Salsolinol as an RNA m6A methylation inducer m...</td>\n",
       "      <td>JOURNAL/nrgr/04.03/01300535-202503000-00032/fi...</td>\n",
       "      <td>Salsolinol as an RNA m6A methylation inducer m...</td>\n",
       "    </tr>\n",
       "  </tbody>\n",
       "</table>\n",
       "</div>"
      ],
      "text/plain": [
       "       pmid                                              title  \\\n",
       "0  38886960  Salsolinol as an RNA m6A methylation inducer m...   \n",
       "\n",
       "                                            abstract  \\\n",
       "0  JOURNAL/nrgr/04.03/01300535-202503000-00032/fi...   \n",
       "\n",
       "                                                text  \n",
       "0  Salsolinol as an RNA m6A methylation inducer m...  "
      ]
     },
     "execution_count": 5,
     "metadata": {},
     "output_type": "execute_result"
    }
   ],
   "source": [
    "texts.head(1)"
   ]
  },
  {
   "cell_type": "markdown",
   "id": "437879b8-afd9-4393-ac0c-1c7a7013d692",
   "metadata": {},
   "source": [
    "# Core entities"
   ]
  },
  {
   "cell_type": "code",
   "execution_count": 6,
   "id": "e3e27d77-3a0b-4486-8e87-616878ae2d12",
   "metadata": {},
   "outputs": [],
   "source": [
    "entities = ['Chemical', 'Gene', 'Disease', 'Species', 'Variant', 'CellLine']"
   ]
  },
  {
   "cell_type": "code",
   "execution_count": 7,
   "id": "380ce8a2-f7b0-48bf-af72-34caa19a0137",
   "metadata": {},
   "outputs": [],
   "source": [
    "COLORS = plt.cycler(\"color\", plt.cm.Set3.colors)\n",
    "COLORS = [matplotlib.colors.to_hex(c['color']) for c in COLORS]\n",
    "COLORS = dict(zip(entities,COLORS[:len(entities)]))"
   ]
  },
  {
   "cell_type": "markdown",
   "id": "8f8355cb-c512-4ad2-a575-b6acf0547c7c",
   "metadata": {},
   "source": [
    "## BiomedBERT-base abstract"
   ]
  },
  {
   "cell_type": "code",
   "execution_count": 8,
   "id": "4837d0bc-8261-44db-af34-59d52beb32cc",
   "metadata": {},
   "outputs": [],
   "source": [
    "vocabfiles={'labelfile':'../vocab/AIO_label.vocab',\n",
    "            'checkpoint_path':'../pretrained_models/BiomedNLP-PubMedBERT-base-uncased-abstract/',\n",
    "            'lowercase':True\n",
    "           }"
   ]
  },
  {
   "cell_type": "code",
   "execution_count": 9,
   "id": "b099dcc1-d001-417a-b441-725ce979beef",
   "metadata": {},
   "outputs": [
    {
     "name": "stderr",
     "output_type": "stream",
     "text": [
      "2024-06-20 15:31:52.497141: I external/local_xla/xla/stream_executor/cuda/cuda_executor.cc:901] successful NUMA node read from SysFS had negative value (-1), but there must be at least one NUMA node, so returning NUMA node zero. See more at https://github.com/torvalds/linux/blob/v6.0/Documentation/ABI/testing/sysfs-bus-pci#L344-L355\n",
      "2024-06-20 15:31:52.497259: I external/local_xla/xla/stream_executor/cuda/cuda_executor.cc:901] successful NUMA node read from SysFS had negative value (-1), but there must be at least one NUMA node, so returning NUMA node zero. See more at https://github.com/torvalds/linux/blob/v6.0/Documentation/ABI/testing/sysfs-bus-pci#L344-L355\n",
      "2024-06-20 15:31:52.497317: I external/local_xla/xla/stream_executor/cuda/cuda_executor.cc:901] successful NUMA node read from SysFS had negative value (-1), but there must be at least one NUMA node, so returning NUMA node zero. See more at https://github.com/torvalds/linux/blob/v6.0/Documentation/ABI/testing/sysfs-bus-pci#L344-L355\n",
      "2024-06-20 15:31:52.555545: I external/local_xla/xla/stream_executor/cuda/cuda_executor.cc:901] successful NUMA node read from SysFS had negative value (-1), but there must be at least one NUMA node, so returning NUMA node zero. See more at https://github.com/torvalds/linux/blob/v6.0/Documentation/ABI/testing/sysfs-bus-pci#L344-L355\n",
      "2024-06-20 15:31:52.555635: I external/local_xla/xla/stream_executor/cuda/cuda_executor.cc:901] successful NUMA node read from SysFS had negative value (-1), but there must be at least one NUMA node, so returning NUMA node zero. See more at https://github.com/torvalds/linux/blob/v6.0/Documentation/ABI/testing/sysfs-bus-pci#L344-L355\n",
      "2024-06-20 15:31:52.555700: I external/local_xla/xla/stream_executor/cuda/cuda_executor.cc:901] successful NUMA node read from SysFS had negative value (-1), but there must be at least one NUMA node, so returning NUMA node zero. See more at https://github.com/torvalds/linux/blob/v6.0/Documentation/ABI/testing/sysfs-bus-pci#L344-L355\n",
      "2024-06-20 15:31:52.555752: I tensorflow/core/common_runtime/gpu/gpu_device.cc:1929] Created device /job:localhost/replica:0/task:0/device:GPU:0 with 17251 MB memory:  -> device: 0, name: NVIDIA GeForce RTX 4090, pci bus id: 0000:01:00.0, compute capability: 8.9\n",
      "2024-06-20 15:31:52.914070: I external/local_tsl/tsl/platform/default/subprocess.cc:304] Start cannot spawn child process: No such file or directory\n"
     ]
    }
   ],
   "source": [
    "%%capture\n",
    "\n",
    "nn_model = HUGFACE_NER(vocabfiles)\n",
    "nn_model.build_encoder()\n",
    "\n",
    "nn_model.build_crf_decoder()\n",
    "\n",
    "nn_model.load_model('../models/pubmedbert/pubmedbert-es-AIO.h5')"
   ]
  },
  {
   "cell_type": "code",
   "execution_count": 10,
   "id": "8830488e-d74c-4036-931b-c1508e5ed86c",
   "metadata": {},
   "outputs": [
    {
     "name": "stdout",
     "output_type": "stream",
     "text": [
      "1/1 [==============================] - 2s 2s/step\n"
     ]
    },
    {
     "data": {
      "text/html": [
       "<span class=\"tex2jax_ignore\"><div class=\"entities\" style=\"line-height: 2.5; direction: ltr\">\n",
       "<mark class=\"entity\" style=\"background: #8dd3c7; padding: 0.45em 0.6em; margin: 0 0.25em; line-height: 1; border-radius: 0.35em;\">\n",
       "    Salsolinol\n",
       "    <span style=\"font-size: 0.8em; font-weight: bold; line-height: 1; border-radius: 0.35em; vertical-align: middle; margin-left: 0.5rem\">CHEMICAL</span>\n",
       "</mark>\n",
       " as an RNA m6A methylation inducer mediates \n",
       "<mark class=\"entity\" style=\"background: #bebada; padding: 0.45em 0.6em; margin: 0 0.25em; line-height: 1; border-radius: 0.35em;\">\n",
       "    dopaminergic neuronal death\n",
       "    <span style=\"font-size: 0.8em; font-weight: bold; line-height: 1; border-radius: 0.35em; vertical-align: middle; margin-left: 0.5rem\">DISEASE</span>\n",
       "</mark>\n",
       " by regulating \n",
       "<mark class=\"entity\" style=\"background: #ffffb3; padding: 0.45em 0.6em; margin: 0 0.25em; line-height: 1; border-radius: 0.35em;\">\n",
       "    YAP1\n",
       "    <span style=\"font-size: 0.8em; font-weight: bold; line-height: 1; border-radius: 0.35em; vertical-align: middle; margin-left: 0.5rem\">GENE</span>\n",
       "</mark>\n",
       " and autophagy. JOURNAL/nrgr/04.03/01300535-202503000-00032/figure1/v/2024-06-17T092413Z/r/image-tiff \n",
       "<mark class=\"entity\" style=\"background: #8dd3c7; padding: 0.45em 0.6em; margin: 0 0.25em; line-height: 1; border-radius: 0.35em;\">\n",
       "    Salsolinol\n",
       "    <span style=\"font-size: 0.8em; font-weight: bold; line-height: 1; border-radius: 0.35em; vertical-align: middle; margin-left: 0.5rem\">CHEMICAL</span>\n",
       "</mark>\n",
       " (\n",
       "<mark class=\"entity\" style=\"background: #8dd3c7; padding: 0.45em 0.6em; margin: 0 0.25em; line-height: 1; border-radius: 0.35em;\">\n",
       "    1-methyl-6,7-dihydroxy-1,2,3,4-tetrahydroisoquinoline\n",
       "    <span style=\"font-size: 0.8em; font-weight: bold; line-height: 1; border-radius: 0.35em; vertical-align: middle; margin-left: 0.5rem\">CHEMICAL</span>\n",
       "</mark>\n",
       ", \n",
       "<mark class=\"entity\" style=\"background: #8dd3c7; padding: 0.45em 0.6em; margin: 0 0.25em; line-height: 1; border-radius: 0.35em;\">\n",
       "    Sal\n",
       "    <span style=\"font-size: 0.8em; font-weight: bold; line-height: 1; border-radius: 0.35em; vertical-align: middle; margin-left: 0.5rem\">CHEMICAL</span>\n",
       "</mark>\n",
       ") is a \n",
       "<mark class=\"entity\" style=\"background: #8dd3c7; padding: 0.45em 0.6em; margin: 0 0.25em; line-height: 1; border-radius: 0.35em;\">\n",
       "    catechol isoquinoline\n",
       "    <span style=\"font-size: 0.8em; font-weight: bold; line-height: 1; border-radius: 0.35em; vertical-align: middle; margin-left: 0.5rem\">CHEMICAL</span>\n",
       "</mark>\n",
       " that causes \n",
       "<mark class=\"entity\" style=\"background: #bebada; padding: 0.45em 0.6em; margin: 0 0.25em; line-height: 1; border-radius: 0.35em;\">\n",
       "    neurotoxicity\n",
       "    <span style=\"font-size: 0.8em; font-weight: bold; line-height: 1; border-radius: 0.35em; vertical-align: middle; margin-left: 0.5rem\">DISEASE</span>\n",
       "</mark>\n",
       " and shares structural similarity with \n",
       "<mark class=\"entity\" style=\"background: #8dd3c7; padding: 0.45em 0.6em; margin: 0 0.25em; line-height: 1; border-radius: 0.35em;\">\n",
       "    1-methyl-4-phenyl-1,2,3,6-tetrahydropyridine\n",
       "    <span style=\"font-size: 0.8em; font-weight: bold; line-height: 1; border-radius: 0.35em; vertical-align: middle; margin-left: 0.5rem\">CHEMICAL</span>\n",
       "</mark>\n",
       ", an environmental toxin that causes \n",
       "<mark class=\"entity\" style=\"background: #bebada; padding: 0.45em 0.6em; margin: 0 0.25em; line-height: 1; border-radius: 0.35em;\">\n",
       "    Parkinson's disease\n",
       "    <span style=\"font-size: 0.8em; font-weight: bold; line-height: 1; border-radius: 0.35em; vertical-align: middle; margin-left: 0.5rem\">DISEASE</span>\n",
       "</mark>\n",
       ". However, the mechanism by which \n",
       "<mark class=\"entity\" style=\"background: #8dd3c7; padding: 0.45em 0.6em; margin: 0 0.25em; line-height: 1; border-radius: 0.35em;\">\n",
       "    Sal\n",
       "    <span style=\"font-size: 0.8em; font-weight: bold; line-height: 1; border-radius: 0.35em; vertical-align: middle; margin-left: 0.5rem\">CHEMICAL</span>\n",
       "</mark>\n",
       " mediates dopaminergic neuronal death remains unclear. In this study, we found that \n",
       "<mark class=\"entity\" style=\"background: #8dd3c7; padding: 0.45em 0.6em; margin: 0 0.25em; line-height: 1; border-radius: 0.35em;\">\n",
       "    Sal\n",
       "    <span style=\"font-size: 0.8em; font-weight: bold; line-height: 1; border-radius: 0.35em; vertical-align: middle; margin-left: 0.5rem\">CHEMICAL</span>\n",
       "</mark>\n",
       " significantly enhanced the global level of \n",
       "<mark class=\"entity\" style=\"background: #8dd3c7; padding: 0.45em 0.6em; margin: 0 0.25em; line-height: 1; border-radius: 0.35em;\">\n",
       "    N6-methyladenosine\n",
       "    <span style=\"font-size: 0.8em; font-weight: bold; line-height: 1; border-radius: 0.35em; vertical-align: middle; margin-left: 0.5rem\">CHEMICAL</span>\n",
       "</mark>\n",
       " (\n",
       "<mark class=\"entity\" style=\"background: #8dd3c7; padding: 0.45em 0.6em; margin: 0 0.25em; line-height: 1; border-radius: 0.35em;\">\n",
       "    m6A\n",
       "    <span style=\"font-size: 0.8em; font-weight: bold; line-height: 1; border-radius: 0.35em; vertical-align: middle; margin-left: 0.5rem\">CHEMICAL</span>\n",
       "</mark>\n",
       ") RNA methylation in PC12 cells, mainly by inducing the downregulation of the expression of m6A demethylases \n",
       "<mark class=\"entity\" style=\"background: #ffffb3; padding: 0.45em 0.6em; margin: 0 0.25em; line-height: 1; border-radius: 0.35em;\">\n",
       "    fat mass and obesity-associated protein\n",
       "    <span style=\"font-size: 0.8em; font-weight: bold; line-height: 1; border-radius: 0.35em; vertical-align: middle; margin-left: 0.5rem\">GENE</span>\n",
       "</mark>\n",
       " (\n",
       "<mark class=\"entity\" style=\"background: #ffffb3; padding: 0.45em 0.6em; margin: 0 0.25em; line-height: 1; border-radius: 0.35em;\">\n",
       "    FTO\n",
       "    <span style=\"font-size: 0.8em; font-weight: bold; line-height: 1; border-radius: 0.35em; vertical-align: middle; margin-left: 0.5rem\">GENE</span>\n",
       "</mark>\n",
       ") and \n",
       "<mark class=\"entity\" style=\"background: #ffffb3; padding: 0.45em 0.6em; margin: 0 0.25em; line-height: 1; border-radius: 0.35em;\">\n",
       "    alkB homolog 5\n",
       "    <span style=\"font-size: 0.8em; font-weight: bold; line-height: 1; border-radius: 0.35em; vertical-align: middle; margin-left: 0.5rem\">GENE</span>\n",
       "</mark>\n",
       " (\n",
       "<mark class=\"entity\" style=\"background: #ffffb3; padding: 0.45em 0.6em; margin: 0 0.25em; line-height: 1; border-radius: 0.35em;\">\n",
       "    ALKBH5\n",
       "    <span style=\"font-size: 0.8em; font-weight: bold; line-height: 1; border-radius: 0.35em; vertical-align: middle; margin-left: 0.5rem\">GENE</span>\n",
       "</mark>\n",
       "). RNA sequencing analysis showed that \n",
       "<mark class=\"entity\" style=\"background: #8dd3c7; padding: 0.45em 0.6em; margin: 0 0.25em; line-height: 1; border-radius: 0.35em;\">\n",
       "    Sal\n",
       "    <span style=\"font-size: 0.8em; font-weight: bold; line-height: 1; border-radius: 0.35em; vertical-align: middle; margin-left: 0.5rem\">CHEMICAL</span>\n",
       "</mark>\n",
       " downregulated the Hippo signaling pathway. The m6A reader \n",
       "<mark class=\"entity\" style=\"background: #ffffb3; padding: 0.45em 0.6em; margin: 0 0.25em; line-height: 1; border-radius: 0.35em;\">\n",
       "    YTH domain-containing family protein 2\n",
       "    <span style=\"font-size: 0.8em; font-weight: bold; line-height: 1; border-radius: 0.35em; vertical-align: middle; margin-left: 0.5rem\">GENE</span>\n",
       "</mark>\n",
       " (\n",
       "<mark class=\"entity\" style=\"background: #ffffb3; padding: 0.45em 0.6em; margin: 0 0.25em; line-height: 1; border-radius: 0.35em;\">\n",
       "    YTHDF2\n",
       "    <span style=\"font-size: 0.8em; font-weight: bold; line-height: 1; border-radius: 0.35em; vertical-align: middle; margin-left: 0.5rem\">GENE</span>\n",
       "</mark>\n",
       ") promoted the degradation of m6A-containing \n",
       "<mark class=\"entity\" style=\"background: #ffffb3; padding: 0.45em 0.6em; margin: 0 0.25em; line-height: 1; border-radius: 0.35em;\">\n",
       "    Yes-associated protein 1\n",
       "    <span style=\"font-size: 0.8em; font-weight: bold; line-height: 1; border-radius: 0.35em; vertical-align: middle; margin-left: 0.5rem\">GENE</span>\n",
       "</mark>\n",
       " (\n",
       "<mark class=\"entity\" style=\"background: #ffffb3; padding: 0.45em 0.6em; margin: 0 0.25em; line-height: 1; border-radius: 0.35em;\">\n",
       "    YAP1\n",
       "    <span style=\"font-size: 0.8em; font-weight: bold; line-height: 1; border-radius: 0.35em; vertical-align: middle; margin-left: 0.5rem\">GENE</span>\n",
       "</mark>\n",
       ") mRNA, which is a downstream key effector in the Hippo signaling pathway. Additionally, downregulation of \n",
       "<mark class=\"entity\" style=\"background: #ffffb3; padding: 0.45em 0.6em; margin: 0 0.25em; line-height: 1; border-radius: 0.35em;\">\n",
       "    YAP1\n",
       "    <span style=\"font-size: 0.8em; font-weight: bold; line-height: 1; border-radius: 0.35em; vertical-align: middle; margin-left: 0.5rem\">GENE</span>\n",
       "</mark>\n",
       " promoted autophagy, indicating that the mutual regulation between \n",
       "<mark class=\"entity\" style=\"background: #ffffb3; padding: 0.45em 0.6em; margin: 0 0.25em; line-height: 1; border-radius: 0.35em;\">\n",
       "    YAP1\n",
       "    <span style=\"font-size: 0.8em; font-weight: bold; line-height: 1; border-radius: 0.35em; vertical-align: middle; margin-left: 0.5rem\">GENE</span>\n",
       "</mark>\n",
       " and autophagy can lead to \n",
       "<mark class=\"entity\" style=\"background: #bebada; padding: 0.45em 0.6em; margin: 0 0.25em; line-height: 1; border-radius: 0.35em;\">\n",
       "    neurotoxicity\n",
       "    <span style=\"font-size: 0.8em; font-weight: bold; line-height: 1; border-radius: 0.35em; vertical-align: middle; margin-left: 0.5rem\">DISEASE</span>\n",
       "</mark>\n",
       ". These findings reveal the role of \n",
       "<mark class=\"entity\" style=\"background: #8dd3c7; padding: 0.45em 0.6em; margin: 0 0.25em; line-height: 1; border-radius: 0.35em;\">\n",
       "    Sal\n",
       "    <span style=\"font-size: 0.8em; font-weight: bold; line-height: 1; border-radius: 0.35em; vertical-align: middle; margin-left: 0.5rem\">CHEMICAL</span>\n",
       "</mark>\n",
       " on m6A RNA methylation and suggest that \n",
       "<mark class=\"entity\" style=\"background: #8dd3c7; padding: 0.45em 0.6em; margin: 0 0.25em; line-height: 1; border-radius: 0.35em;\">\n",
       "    Sal\n",
       "    <span style=\"font-size: 0.8em; font-weight: bold; line-height: 1; border-radius: 0.35em; vertical-align: middle; margin-left: 0.5rem\">CHEMICAL</span>\n",
       "</mark>\n",
       " may act as an RNA methylation inducer mediating \n",
       "<mark class=\"entity\" style=\"background: #bebada; padding: 0.45em 0.6em; margin: 0 0.25em; line-height: 1; border-radius: 0.35em;\">\n",
       "    dopaminergic neuronal death\n",
       "    <span style=\"font-size: 0.8em; font-weight: bold; line-height: 1; border-radius: 0.35em; vertical-align: middle; margin-left: 0.5rem\">DISEASE</span>\n",
       "</mark>\n",
       " through \n",
       "<mark class=\"entity\" style=\"background: #ffffb3; padding: 0.45em 0.6em; margin: 0 0.25em; line-height: 1; border-radius: 0.35em;\">\n",
       "    YAP1\n",
       "    <span style=\"font-size: 0.8em; font-weight: bold; line-height: 1; border-radius: 0.35em; vertical-align: middle; margin-left: 0.5rem\">GENE</span>\n",
       "</mark>\n",
       " and autophagy. Our results provide greater insights into the \n",
       "<mark class=\"entity\" style=\"background: #bebada; padding: 0.45em 0.6em; margin: 0 0.25em; line-height: 1; border-radius: 0.35em;\">\n",
       "    neurotoxic\n",
       "    <span style=\"font-size: 0.8em; font-weight: bold; line-height: 1; border-radius: 0.35em; vertical-align: middle; margin-left: 0.5rem\">DISEASE</span>\n",
       "</mark>\n",
       " effects of \n",
       "<mark class=\"entity\" style=\"background: #8dd3c7; padding: 0.45em 0.6em; margin: 0 0.25em; line-height: 1; border-radius: 0.35em;\">\n",
       "    catechol isoquinolines\n",
       "    <span style=\"font-size: 0.8em; font-weight: bold; line-height: 1; border-radius: 0.35em; vertical-align: middle; margin-left: 0.5rem\">CHEMICAL</span>\n",
       "</mark>\n",
       " compared with other studies and may be a reference for assessing the involvement of RNA methylation in the pathogenesis of \n",
       "<mark class=\"entity\" style=\"background: #bebada; padding: 0.45em 0.6em; margin: 0 0.25em; line-height: 1; border-radius: 0.35em;\">\n",
       "    Parkinson's disease\n",
       "    <span style=\"font-size: 0.8em; font-weight: bold; line-height: 1; border-radius: 0.35em; vertical-align: middle; margin-left: 0.5rem\">DISEASE</span>\n",
       "</mark>\n",
       ".</div></span>"
      ],
      "text/plain": [
       "<IPython.core.display.HTML object>"
      ]
     },
     "metadata": {},
     "output_type": "display_data"
    },
    {
     "name": "stdout",
     "output_type": "stream",
     "text": [
      "******************************************************************************************************************************************************\n",
      "\n",
      "\n",
      "******************************************************************************************************************************************************\n",
      "1/1 [==============================] - 0s 56ms/step\n"
     ]
    },
    {
     "data": {
      "text/html": [
       "<span class=\"tex2jax_ignore\"><div class=\"entities\" style=\"line-height: 2.5; direction: ltr\">Sources and applications of endothelial seed cells: a review. Endothelial cells (ECs) are widely used as donor cells in tissue engineering, organoid vascularization, and in vitro microvascular model development. ECs are invaluable tools for disease modeling and drug screening in fundamental research. When treating \n",
       "<mark class=\"entity\" style=\"background: #bebada; padding: 0.45em 0.6em; margin: 0 0.25em; line-height: 1; border-radius: 0.35em;\">\n",
       "    ischemic diseases\n",
       "    <span style=\"font-size: 0.8em; font-weight: bold; line-height: 1; border-radius: 0.35em; vertical-align: middle; margin-left: 0.5rem\">DISEASE</span>\n",
       "</mark>\n",
       ", EC engraftment facilitates the restoration of damaged blood vessels, enhancing therapeutic outcomes. This article presents a comprehensive overview of the current sources of ECs, which encompass stem/progenitor cells, primary ECs, cell lineage conversion, and ECs derived from other cellular sources, provides insights into their characteristics, potential applications, discusses challenges, and explores strategies to mitigate these issues. The primary aim is to serve as a reference for selecting suitable EC sources for preclinical research and promote the translation of basic research into clinical applications.</div></span>"
      ],
      "text/plain": [
       "<IPython.core.display.HTML object>"
      ]
     },
     "metadata": {},
     "output_type": "display_data"
    },
    {
     "name": "stdout",
     "output_type": "stream",
     "text": [
      "******************************************************************************************************************************************************\n",
      "\n",
      "\n",
      "******************************************************************************************************************************************************\n",
      "1/1 [==============================] - 0s 61ms/step\n"
     ]
    },
    {
     "data": {
      "text/html": [
       "<span class=\"tex2jax_ignore\"><div class=\"entities\" style=\"line-height: 2.5; direction: ltr\">Combination Antifungal Therapy for \n",
       "<mark class=\"entity\" style=\"background: #bebada; padding: 0.45em 0.6em; margin: 0 0.25em; line-height: 1; border-radius: 0.35em;\">\n",
       "    Invasive Mucormycosis\n",
       "    <span style=\"font-size: 0.8em; font-weight: bold; line-height: 1; border-radius: 0.35em; vertical-align: middle; margin-left: 0.5rem\">DISEASE</span>\n",
       "</mark>\n",
       " in Immunocompromised Hosts: A Single-Center Experience. Combination antifungal therapy for \n",
       "<mark class=\"entity\" style=\"background: #bebada; padding: 0.45em 0.6em; margin: 0 0.25em; line-height: 1; border-radius: 0.35em;\">\n",
       "    invasive mucormycosis\n",
       "    <span style=\"font-size: 0.8em; font-weight: bold; line-height: 1; border-radius: 0.35em; vertical-align: middle; margin-left: 0.5rem\">DISEASE</span>\n",
       "</mark>\n",
       " remains controversial and is inconsistently defined in prior studies. In a cohort of \n",
       "<mark class=\"entity\" style=\"background: #fb8072; padding: 0.45em 0.6em; margin: 0 0.25em; line-height: 1; border-radius: 0.35em;\">\n",
       "    patients\n",
       "    <span style=\"font-size: 0.8em; font-weight: bold; line-height: 1; border-radius: 0.35em; vertical-align: middle; margin-left: 0.5rem\">SPECIES</span>\n",
       "</mark>\n",
       " with immunocompromised status and invasive \n",
       "<mark class=\"entity\" style=\"background: #bebada; padding: 0.45em 0.6em; margin: 0 0.25em; line-height: 1; border-radius: 0.35em;\">\n",
       "    mucormycosis\n",
       "    <span style=\"font-size: 0.8em; font-weight: bold; line-height: 1; border-radius: 0.35em; vertical-align: middle; margin-left: 0.5rem\">DISEASE</span>\n",
       "</mark>\n",
       ", we found no difference in 6-week mortality with up-front or salvage combination therapy as compared with monotherapy.</div></span>"
      ],
      "text/plain": [
       "<IPython.core.display.HTML object>"
      ]
     },
     "metadata": {},
     "output_type": "display_data"
    },
    {
     "name": "stdout",
     "output_type": "stream",
     "text": [
      "******************************************************************************************************************************************************\n",
      "\n",
      "\n",
      "******************************************************************************************************************************************************\n",
      "1/1 [==============================] - 0s 69ms/step\n"
     ]
    },
    {
     "data": {
      "text/html": [
       "<span class=\"tex2jax_ignore\"><div class=\"entities\" style=\"line-height: 2.5; direction: ltr\">The skin barrier and microbiome in infantile \n",
       "<mark class=\"entity\" style=\"background: #bebada; padding: 0.45em 0.6em; margin: 0 0.25em; line-height: 1; border-radius: 0.35em;\">\n",
       "    atopic dermatitis\n",
       "    <span style=\"font-size: 0.8em; font-weight: bold; line-height: 1; border-radius: 0.35em; vertical-align: middle; margin-left: 0.5rem\">DISEASE</span>\n",
       "</mark>\n",
       " development: can skin care prevent onset? \n",
       "<mark class=\"entity\" style=\"background: #bebada; padding: 0.45em 0.6em; margin: 0 0.25em; line-height: 1; border-radius: 0.35em;\">\n",
       "    Atopic dermatitis\n",
       "    <span style=\"font-size: 0.8em; font-weight: bold; line-height: 1; border-radius: 0.35em; vertical-align: middle; margin-left: 0.5rem\">DISEASE</span>\n",
       "</mark>\n",
       " (\n",
       "<mark class=\"entity\" style=\"background: #bebada; padding: 0.45em 0.6em; margin: 0 0.25em; line-height: 1; border-radius: 0.35em;\">\n",
       "    AD\n",
       "    <span style=\"font-size: 0.8em; font-weight: bold; line-height: 1; border-radius: 0.35em; vertical-align: middle; margin-left: 0.5rem\">DISEASE</span>\n",
       "</mark>\n",
       "), a prevalent Th2-dominant \n",
       "<mark class=\"entity\" style=\"background: #bebada; padding: 0.45em 0.6em; margin: 0 0.25em; line-height: 1; border-radius: 0.35em;\">\n",
       "    skin disease\n",
       "    <span style=\"font-size: 0.8em; font-weight: bold; line-height: 1; border-radius: 0.35em; vertical-align: middle; margin-left: 0.5rem\">DISEASE</span>\n",
       "</mark>\n",
       ", involves complex genetic and environmental factors, including mutations in the \n",
       "<mark class=\"entity\" style=\"background: #ffffb3; padding: 0.45em 0.6em; margin: 0 0.25em; line-height: 1; border-radius: 0.35em;\">\n",
       "    Filaggrin\n",
       "    <span style=\"font-size: 0.8em; font-weight: bold; line-height: 1; border-radius: 0.35em; vertical-align: middle; margin-left: 0.5rem\">GENE</span>\n",
       "</mark>\n",
       " gene and dysbiosis of skin microbiota characterized by an increased abundance of \n",
       "<mark class=\"entity\" style=\"background: #fb8072; padding: 0.45em 0.6em; margin: 0 0.25em; line-height: 1; border-radius: 0.35em;\">\n",
       "    Staphylococcus aureus\n",
       "    <span style=\"font-size: 0.8em; font-weight: bold; line-height: 1; border-radius: 0.35em; vertical-align: middle; margin-left: 0.5rem\">SPECIES</span>\n",
       "</mark>\n",
       ". Our recent findings emphasize the pivotal role of the skin barrier's integrity and microbial composition in infantile \n",
       "<mark class=\"entity\" style=\"background: #bebada; padding: 0.45em 0.6em; margin: 0 0.25em; line-height: 1; border-radius: 0.35em;\">\n",
       "    AD\n",
       "    <span style=\"font-size: 0.8em; font-weight: bold; line-height: 1; border-radius: 0.35em; vertical-align: middle; margin-left: 0.5rem\">DISEASE</span>\n",
       "</mark>\n",
       " and \n",
       "<mark class=\"entity\" style=\"background: #bebada; padding: 0.45em 0.6em; margin: 0 0.25em; line-height: 1; border-radius: 0.35em;\">\n",
       "    allergic diseases\n",
       "    <span style=\"font-size: 0.8em; font-weight: bold; line-height: 1; border-radius: 0.35em; vertical-align: middle; margin-left: 0.5rem\">DISEASE</span>\n",
       "</mark>\n",
       ". Early \n",
       "<mark class=\"entity\" style=\"background: #bebada; padding: 0.45em 0.6em; margin: 0 0.25em; line-height: 1; border-radius: 0.35em;\">\n",
       "    skin dysbiosis\n",
       "    <span style=\"font-size: 0.8em; font-weight: bold; line-height: 1; border-radius: 0.35em; vertical-align: middle; margin-left: 0.5rem\">DISEASE</span>\n",
       "</mark>\n",
       " predisposes infants to \n",
       "<mark class=\"entity\" style=\"background: #bebada; padding: 0.45em 0.6em; margin: 0 0.25em; line-height: 1; border-radius: 0.35em;\">\n",
       "    AD\n",
       "    <span style=\"font-size: 0.8em; font-weight: bold; line-height: 1; border-radius: 0.35em; vertical-align: middle; margin-left: 0.5rem\">DISEASE</span>\n",
       "</mark>\n",
       ", suggesting targeted skincare practices as a preventive strategy. The effects of skincare interventions, particularly the application of moisturizers with the appropriate molar concentration of \n",
       "<mark class=\"entity\" style=\"background: #8dd3c7; padding: 0.45em 0.6em; margin: 0 0.25em; line-height: 1; border-radius: 0.35em;\">\n",
       "    ceramides\n",
       "    <span style=\"font-size: 0.8em; font-weight: bold; line-height: 1; border-radius: 0.35em; vertical-align: middle; margin-left: 0.5rem\">CHEMICAL</span>\n",
       "</mark>\n",
       ", \n",
       "<mark class=\"entity\" style=\"background: #8dd3c7; padding: 0.45em 0.6em; margin: 0 0.25em; line-height: 1; border-radius: 0.35em;\">\n",
       "    cholesterol\n",
       "    <span style=\"font-size: 0.8em; font-weight: bold; line-height: 1; border-radius: 0.35em; vertical-align: middle; margin-left: 0.5rem\">CHEMICAL</span>\n",
       "</mark>\n",
       ", and \n",
       "<mark class=\"entity\" style=\"background: #8dd3c7; padding: 0.45em 0.6em; margin: 0 0.25em; line-height: 1; border-radius: 0.35em;\">\n",
       "    fatty acids\n",
       "    <span style=\"font-size: 0.8em; font-weight: bold; line-height: 1; border-radius: 0.35em; vertical-align: middle; margin-left: 0.5rem\">CHEMICAL</span>\n",
       "</mark>\n",
       ", play a crucial role in restoring the skin barrier. Notably, our study revealed that appropriate skincare can reduce Streptococcus abundance while supporting \n",
       "<mark class=\"entity\" style=\"background: #fb8072; padding: 0.45em 0.6em; margin: 0 0.25em; line-height: 1; border-radius: 0.35em;\">\n",
       "    Cutibacterium acnes\n",
       "    <span style=\"font-size: 0.8em; font-weight: bold; line-height: 1; border-radius: 0.35em; vertical-align: middle; margin-left: 0.5rem\">SPECIES</span>\n",
       "</mark>\n",
       " presence, thus directly linking skincare practices to microbial modulation in neonatal skin. Despite the mixed outcomes of previous Randomized Controlled Trials on the efficacy of moisturizers in \n",
       "<mark class=\"entity\" style=\"background: #bebada; padding: 0.45em 0.6em; margin: 0 0.25em; line-height: 1; border-radius: 0.35em;\">\n",
       "    AD\n",
       "    <span style=\"font-size: 0.8em; font-weight: bold; line-height: 1; border-radius: 0.35em; vertical-align: middle; margin-left: 0.5rem\">DISEASE</span>\n",
       "</mark>\n",
       " prevention, our research points to the potential of skincare intervention as a primary preventive method against \n",
       "<mark class=\"entity\" style=\"background: #bebada; padding: 0.45em 0.6em; margin: 0 0.25em; line-height: 1; border-radius: 0.35em;\">\n",
       "    AD\n",
       "    <span style=\"font-size: 0.8em; font-weight: bold; line-height: 1; border-radius: 0.35em; vertical-align: middle; margin-left: 0.5rem\">DISEASE</span>\n",
       "</mark>\n",
       " by minimizing the impact of genetic and environmental factors. Furthermore, our research supports the notion that early aggressive management of \n",
       "<mark class=\"entity\" style=\"background: #bebada; padding: 0.45em 0.6em; margin: 0 0.25em; line-height: 1; border-radius: 0.35em;\">\n",
       "    eczema\n",
       "    <span style=\"font-size: 0.8em; font-weight: bold; line-height: 1; border-radius: 0.35em; vertical-align: middle; margin-left: 0.5rem\">DISEASE</span>\n",
       "</mark>\n",
       " may reduce the incidence of \n",
       "<mark class=\"entity\" style=\"background: #bebada; padding: 0.45em 0.6em; margin: 0 0.25em; line-height: 1; border-radius: 0.35em;\">\n",
       "    food allergies\n",
       "    <span style=\"font-size: 0.8em; font-weight: bold; line-height: 1; border-radius: 0.35em; vertical-align: middle; margin-left: 0.5rem\">DISEASE</span>\n",
       "</mark>\n",
       ", highlighting the necessity for multifaceted prevention strategies that address both the skin barrier and immune sensitization. By focusing on repairing the skin barrier and adjusting the skin's microbiome from birth, we propose a novel perspective on preventing infantile \n",
       "<mark class=\"entity\" style=\"background: #bebada; padding: 0.45em 0.6em; margin: 0 0.25em; line-height: 1; border-radius: 0.35em;\">\n",
       "    AD\n",
       "    <span style=\"font-size: 0.8em; font-weight: bold; line-height: 1; border-radius: 0.35em; vertical-align: middle; margin-left: 0.5rem\">DISEASE</span>\n",
       "</mark>\n",
       " and \n",
       "<mark class=\"entity\" style=\"background: #bebada; padding: 0.45em 0.6em; margin: 0 0.25em; line-height: 1; border-radius: 0.35em;\">\n",
       "    allergic diseases\n",
       "    <span style=\"font-size: 0.8em; font-weight: bold; line-height: 1; border-radius: 0.35em; vertical-align: middle; margin-left: 0.5rem\">DISEASE</span>\n",
       "</mark>\n",
       ", opening new avenues for future studies and practices in \n",
       "<mark class=\"entity\" style=\"background: #bebada; padding: 0.45em 0.6em; margin: 0 0.25em; line-height: 1; border-radius: 0.35em;\">\n",
       "    allergy\n",
       "    <span style=\"font-size: 0.8em; font-weight: bold; line-height: 1; border-radius: 0.35em; vertical-align: middle; margin-left: 0.5rem\">DISEASE</span>\n",
       "</mark>\n",
       " prevention.</div></span>"
      ],
      "text/plain": [
       "<IPython.core.display.HTML object>"
      ]
     },
     "metadata": {},
     "output_type": "display_data"
    },
    {
     "name": "stdout",
     "output_type": "stream",
     "text": [
      "******************************************************************************************************************************************************\n",
      "\n",
      "\n",
      "******************************************************************************************************************************************************\n",
      "1/1 [==============================] - 0s 67ms/step\n"
     ]
    },
    {
     "name": "stderr",
     "output_type": "stream",
     "text": [
      "/home/cesar/anaconda3/envs/py39/lib/python3.9/site-packages/spacy/displacy/__init__.py:213: UserWarning: [W006] No entities to visualize found in Doc object. If this is surprising to you, make sure the Doc was processed using a model that supports named entity recognition, and check the `doc.ents` property manually if necessary.\n",
      "  warnings.warn(Warnings.W006)\n"
     ]
    },
    {
     "data": {
      "text/html": [
       "<span class=\"tex2jax_ignore\"><div class=\"entities\" style=\"line-height: 2.5; direction: ltr\">Comparison of the effectiveness of enhanced cognitive-behavioral couple therapy on emotional self-regulation and couple burnout of self-assigned and court-referred incompatible couples. This study aimed to investigate the comparative effectiveness of enhanced cognitive-behavioral couple therapy (ECBCT) on emotional self-regulation and couple burnout in incompatible couples. The study hypothesizes that ECBCT is efficacious in emotional self-regulation and marital burnout of incompatible Iranian couples (self-assigned and court-referred) visiting counseling centers. Twenty-eight Iranian couples were divided into four groups (two self-assigned and court-referred experimental groups and two self-assigned and court-referred control groups) who were selected using the available sampling. The experimental groups were subjected to ECBCT, while the control groups received no therapy. Over time, there was an improvement in emotional self-regulation and marital burnout in experimental groups compared with control groups. This intervention was more efficacious for the self-assigned couples of the experimental group according to the Eta coefficient, which was 71 for emotional self-regulation and 66 for marital burnout. ECBCT helps couples improve their emotional self-regulation and couple burnout.</div></span>"
      ],
      "text/plain": [
       "<IPython.core.display.HTML object>"
      ]
     },
     "metadata": {},
     "output_type": "display_data"
    },
    {
     "name": "stdout",
     "output_type": "stream",
     "text": [
      "******************************************************************************************************************************************************\n",
      "\n",
      "\n",
      "******************************************************************************************************************************************************\n",
      "1/1 [==============================] - 0s 73ms/step\n"
     ]
    },
    {
     "data": {
      "text/html": [
       "<span class=\"tex2jax_ignore\"><div class=\"entities\" style=\"line-height: 2.5; direction: ltr\">Extended Left Hemihapatectomy with Right Hepatic Artery Reconstruction for \n",
       "<mark class=\"entity\" style=\"background: #bebada; padding: 0.45em 0.6em; margin: 0 0.25em; line-height: 1; border-radius: 0.35em;\">\n",
       "    Primary Hepatic Neuroendocrine Neoplasm\n",
       "    <span style=\"font-size: 0.8em; font-weight: bold; line-height: 1; border-radius: 0.35em; vertical-align: middle; margin-left: 0.5rem\">DISEASE</span>\n",
       "</mark>\n",
       ": A Brief Report. BACKGROUND \n",
       "<mark class=\"entity\" style=\"background: #bebada; padding: 0.45em 0.6em; margin: 0 0.25em; line-height: 1; border-radius: 0.35em;\">\n",
       "    rimary hepatic neuroendocrine neoplasms\n",
       "    <span style=\"font-size: 0.8em; font-weight: bold; line-height: 1; border-radius: 0.35em; vertical-align: middle; margin-left: 0.5rem\">DISEASE</span>\n",
       "</mark>\n",
       " (\n",
       "<mark class=\"entity\" style=\"background: #bebada; padding: 0.45em 0.6em; margin: 0 0.25em; line-height: 1; border-radius: 0.35em;\">\n",
       "    PHNEN\n",
       "    <span style=\"font-size: 0.8em; font-weight: bold; line-height: 1; border-radius: 0.35em; vertical-align: middle; margin-left: 0.5rem\">DISEASE</span>\n",
       "</mark>\n",
       ") are exceedingly rare \n",
       "<mark class=\"entity\" style=\"background: #bebada; padding: 0.45em 0.6em; margin: 0 0.25em; line-height: 1; border-radius: 0.35em;\">\n",
       "    tumors\n",
       "    <span style=\"font-size: 0.8em; font-weight: bold; line-height: 1; border-radius: 0.35em; vertical-align: middle; margin-left: 0.5rem\">DISEASE</span>\n",
       "</mark>\n",
       " with atypical clinical manifestations, accounting for less than 0.5% of all \n",
       "<mark class=\"entity\" style=\"background: #bebada; padding: 0.45em 0.6em; margin: 0 0.25em; line-height: 1; border-radius: 0.35em;\">\n",
       "    neuroendocrine tumors\n",
       "    <span style=\"font-size: 0.8em; font-weight: bold; line-height: 1; border-radius: 0.35em; vertical-align: middle; margin-left: 0.5rem\">DISEASE</span>\n",
       "</mark>\n",
       ". Currently, there is a lack of consensus on their management, and guidelines do not recommend postoperative chemotherapy for \n",
       "<mark class=\"entity\" style=\"background: #fb8072; padding: 0.45em 0.6em; margin: 0 0.25em; line-height: 1; border-radius: 0.35em;\">\n",
       "    patients\n",
       "    <span style=\"font-size: 0.8em; font-weight: bold; line-height: 1; border-radius: 0.35em; vertical-align: middle; margin-left: 0.5rem\">SPECIES</span>\n",
       "</mark>\n",
       " with stage G1/G2 disease after curative resection. We present a case report of \n",
       "<mark class=\"entity\" style=\"background: #bebada; padding: 0.45em 0.6em; margin: 0 0.25em; line-height: 1; border-radius: 0.35em;\">\n",
       "    PHNEN\n",
       "    <span style=\"font-size: 0.8em; font-weight: bold; line-height: 1; border-radius: 0.35em; vertical-align: middle; margin-left: 0.5rem\">DISEASE</span>\n",
       "</mark>\n",
       ", outlining its diagnostic challenges, treatment strategy, and clinical outcomes. CASE REPORT A 31-year-old \n",
       "<mark class=\"entity\" style=\"background: #fb8072; padding: 0.45em 0.6em; margin: 0 0.25em; line-height: 1; border-radius: 0.35em;\">\n",
       "    man\n",
       "    <span style=\"font-size: 0.8em; font-weight: bold; line-height: 1; border-radius: 0.35em; vertical-align: middle; margin-left: 0.5rem\">SPECIES</span>\n",
       "</mark>\n",
       " presented with \n",
       "<mark class=\"entity\" style=\"background: #bebada; padding: 0.45em 0.6em; margin: 0 0.25em; line-height: 1; border-radius: 0.35em;\">\n",
       "    jaundice\n",
       "    <span style=\"font-size: 0.8em; font-weight: bold; line-height: 1; border-radius: 0.35em; vertical-align: middle; margin-left: 0.5rem\">DISEASE</span>\n",
       "</mark>\n",
       " and was initially diagnosed with suspected \n",
       "<mark class=\"entity\" style=\"background: #bebada; padding: 0.45em 0.6em; margin: 0 0.25em; line-height: 1; border-radius: 0.35em;\">\n",
       "    IgG4-related disease\n",
       "    <span style=\"font-size: 0.8em; font-weight: bold; line-height: 1; border-radius: 0.35em; vertical-align: middle; margin-left: 0.5rem\">DISEASE</span>\n",
       "</mark>\n",
       ", which initially appeared to respond to \n",
       "<mark class=\"entity\" style=\"background: #8dd3c7; padding: 0.45em 0.6em; margin: 0 0.25em; line-height: 1; border-radius: 0.35em;\">\n",
       "    steroid\n",
       "    <span style=\"font-size: 0.8em; font-weight: bold; line-height: 1; border-radius: 0.35em; vertical-align: middle; margin-left: 0.5rem\">CHEMICAL</span>\n",
       "</mark>\n",
       " therapy, but manifested worsening \n",
       "<mark class=\"entity\" style=\"background: #bebada; padding: 0.45em 0.6em; margin: 0 0.25em; line-height: 1; border-radius: 0.35em;\">\n",
       "    jaundice\n",
       "    <span style=\"font-size: 0.8em; font-weight: bold; line-height: 1; border-radius: 0.35em; vertical-align: middle; margin-left: 0.5rem\">DISEASE</span>\n",
       "</mark>\n",
       " 4 months after initial treatment. Subsequent evaluation revealed a PHNEN \n",
       "<mark class=\"entity\" style=\"background: #bebada; padding: 0.45em 0.6em; margin: 0 0.25em; line-height: 1; border-radius: 0.35em;\">\n",
       "    NET\n",
       "    <span style=\"font-size: 0.8em; font-weight: bold; line-height: 1; border-radius: 0.35em; vertical-align: middle; margin-left: 0.5rem\">DISEASE</span>\n",
       "</mark>\n",
       " G2 with \n",
       "<mark class=\"entity\" style=\"background: #bebada; padding: 0.45em 0.6em; margin: 0 0.25em; line-height: 1; border-radius: 0.35em;\">\n",
       "    lymph node metastasis\n",
       "    <span style=\"font-size: 0.8em; font-weight: bold; line-height: 1; border-radius: 0.35em; vertical-align: middle; margin-left: 0.5rem\">DISEASE</span>\n",
       "</mark>\n",
       " and invasion of the right hepatic artery; and involvement of the hepatic duct at the hepatic hilum, primarily the left hepatic duct. The \n",
       "<mark class=\"entity\" style=\"background: #fb8072; padding: 0.45em 0.6em; margin: 0 0.25em; line-height: 1; border-radius: 0.35em;\">\n",
       "    patient\n",
       "    <span style=\"font-size: 0.8em; font-weight: bold; line-height: 1; border-radius: 0.35em; vertical-align: middle; margin-left: 0.5rem\">SPECIES</span>\n",
       "</mark>\n",
       " underwent extended left hemi-hepatectomy with caudate lobe resection, bile duct resection, and lymphadenectomy, followed by reconstruction of the right hepatic artery. Postoperatively, the \n",
       "<mark class=\"entity\" style=\"background: #fb8072; padding: 0.45em 0.6em; margin: 0 0.25em; line-height: 1; border-radius: 0.35em;\">\n",
       "    patient\n",
       "    <span style=\"font-size: 0.8em; font-weight: bold; line-height: 1; border-radius: 0.35em; vertical-align: middle; margin-left: 0.5rem\">SPECIES</span>\n",
       "</mark>\n",
       " received adjuvant chemotherapy consisting of \n",
       "<mark class=\"entity\" style=\"background: #8dd3c7; padding: 0.45em 0.6em; margin: 0 0.25em; line-height: 1; border-radius: 0.35em;\">\n",
       "    capecitabine\n",
       "    <span style=\"font-size: 0.8em; font-weight: bold; line-height: 1; border-radius: 0.35em; vertical-align: middle; margin-left: 0.5rem\">CHEMICAL</span>\n",
       "</mark>\n",
       " (1000 mg bid D1-14) and \n",
       "<mark class=\"entity\" style=\"background: #8dd3c7; padding: 0.45em 0.6em; margin: 0 0.25em; line-height: 1; border-radius: 0.35em;\">\n",
       "    temozolomide\n",
       "    <span style=\"font-size: 0.8em; font-weight: bold; line-height: 1; border-radius: 0.35em; vertical-align: middle; margin-left: 0.5rem\">CHEMICAL</span>\n",
       "</mark>\n",
       " (200 mg qn D10-14) for 6 cycles. Currently, the \n",
       "<mark class=\"entity\" style=\"background: #fb8072; padding: 0.45em 0.6em; margin: 0 0.25em; line-height: 1; border-radius: 0.35em;\">\n",
       "    patient\n",
       "    <span style=\"font-size: 0.8em; font-weight: bold; line-height: 1; border-radius: 0.35em; vertical-align: middle; margin-left: 0.5rem\">SPECIES</span>\n",
       "</mark>\n",
       " remains disease free 43 months after treatment. CONCLUSIONS \n",
       "<mark class=\"entity\" style=\"background: #bebada; padding: 0.45em 0.6em; margin: 0 0.25em; line-height: 1; border-radius: 0.35em;\">\n",
       "    PHNEN\n",
       "    <span style=\"font-size: 0.8em; font-weight: bold; line-height: 1; border-radius: 0.35em; vertical-align: middle; margin-left: 0.5rem\">DISEASE</span>\n",
       "</mark>\n",
       " presents diagnostic challenges due to its rarity and lack of specific markers. Surgical resection remains the cornerstone of treatment, with chemotherapy being considered in select cases with high-risk features. Further research is needed to refine treatment approaches and improve outcomes for \n",
       "<mark class=\"entity\" style=\"background: #fb8072; padding: 0.45em 0.6em; margin: 0 0.25em; line-height: 1; border-radius: 0.35em;\">\n",
       "    patients\n",
       "    <span style=\"font-size: 0.8em; font-weight: bold; line-height: 1; border-radius: 0.35em; vertical-align: middle; margin-left: 0.5rem\">SPECIES</span>\n",
       "</mark>\n",
       " with \n",
       "<mark class=\"entity\" style=\"background: #bebada; padding: 0.45em 0.6em; margin: 0 0.25em; line-height: 1; border-radius: 0.35em;\">\n",
       "    PHNEN\n",
       "    <span style=\"font-size: 0.8em; font-weight: bold; line-height: 1; border-radius: 0.35em; vertical-align: middle; margin-left: 0.5rem\">DISEASE</span>\n",
       "</mark>\n",
       ".</div></span>"
      ],
      "text/plain": [
       "<IPython.core.display.HTML object>"
      ]
     },
     "metadata": {},
     "output_type": "display_data"
    },
    {
     "name": "stdout",
     "output_type": "stream",
     "text": [
      "******************************************************************************************************************************************************\n",
      "\n",
      "\n",
      "******************************************************************************************************************************************************\n",
      "1/1 [==============================] - 0s 68ms/step\n"
     ]
    },
    {
     "data": {
      "text/html": [
       "<span class=\"tex2jax_ignore\"><div class=\"entities\" style=\"line-height: 2.5; direction: ltr\">Asylum seekers and the role of the acute care physician. There has been a recent influx of migrants and asylum seekers to the United States. They often arrive with poor social support and an inability to access reliable health care. This can lead to overutilization of emergency departments (ED) while awaiting legal proceedings. With asylum seekers in all 50 states, it is important for emergency physicians (EP) to understand the barriers to care and difficulties asylum seekers face, and to gain tools to improve both migrants' and community health. Migration and experiences within the United States can worsen pre-existing health conditions. EPs are uniquely positioned to screen for acute pathology and link people to care. \n",
       "<mark class=\"entity\" style=\"background: #bebada; padding: 0.45em 0.6em; margin: 0 0.25em; line-height: 1; border-radius: 0.35em;\">\n",
       "    Psychiatric illnesses\n",
       "    <span style=\"font-size: 0.8em; font-weight: bold; line-height: 1; border-radius: 0.35em; vertical-align: middle; margin-left: 0.5rem\">DISEASE</span>\n",
       "</mark>\n",
       " may present differently in asylum seekers. EPs must understand the sequalae of \n",
       "<mark class=\"entity\" style=\"background: #bebada; padding: 0.45em 0.6em; margin: 0 0.25em; line-height: 1; border-radius: 0.35em;\">\n",
       "    trauma\n",
       "    <span style=\"font-size: 0.8em; font-weight: bold; line-height: 1; border-radius: 0.35em; vertical-align: middle; margin-left: 0.5rem\">DISEASE</span>\n",
       "</mark>\n",
       " to address it. EPs must also be aware of legal protections for asylum seekers to care for these \n",
       "<mark class=\"entity\" style=\"background: #fb8072; padding: 0.45em 0.6em; margin: 0 0.25em; line-height: 1; border-radius: 0.35em;\">\n",
       "    patients\n",
       "    <span style=\"font-size: 0.8em; font-weight: bold; line-height: 1; border-radius: 0.35em; vertical-align: middle; margin-left: 0.5rem\">SPECIES</span>\n",
       "</mark>\n",
       ", and recognize challenges faced by the population to mitigate health disparities.</div></span>"
      ],
      "text/plain": [
       "<IPython.core.display.HTML object>"
      ]
     },
     "metadata": {},
     "output_type": "display_data"
    },
    {
     "name": "stdout",
     "output_type": "stream",
     "text": [
      "******************************************************************************************************************************************************\n",
      "\n",
      "\n",
      "******************************************************************************************************************************************************\n",
      "1/1 [==============================] - 0s 68ms/step\n"
     ]
    },
    {
     "data": {
      "text/html": [
       "<span class=\"tex2jax_ignore\"><div class=\"entities\" style=\"line-height: 2.5; direction: ltr\">\n",
       "<mark class=\"entity\" style=\"background: #fb8072; padding: 0.45em 0.6em; margin: 0 0.25em; line-height: 1; border-radius: 0.35em;\">\n",
       "    Maize\n",
       "    <span style=\"font-size: 0.8em; font-weight: bold; line-height: 1; border-radius: 0.35em; vertical-align: middle; margin-left: 0.5rem\">SPECIES</span>\n",
       "</mark>\n",
       " residue retention shapes soil microbial communities and co-occurrence networks upon freeze-thawing cycles. \n",
       "<mark class=\"entity\" style=\"background: #fb8072; padding: 0.45em 0.6em; margin: 0 0.25em; line-height: 1; border-radius: 0.35em;\">\n",
       "    Maize\n",
       "    <span style=\"font-size: 0.8em; font-weight: bold; line-height: 1; border-radius: 0.35em; vertical-align: middle; margin-left: 0.5rem\">SPECIES</span>\n",
       "</mark>\n",
       " residue retention is an effective agricultural practice for improving soil fertility in black soil region, where suffered from long freezing-thawing periods and intense freeze-thawing (FT) cycles. However, very few studies have examined the influence of \n",
       "<mark class=\"entity\" style=\"background: #fb8072; padding: 0.45em 0.6em; margin: 0 0.25em; line-height: 1; border-radius: 0.35em;\">\n",
       "    maize\n",
       "    <span style=\"font-size: 0.8em; font-weight: bold; line-height: 1; border-radius: 0.35em; vertical-align: middle; margin-left: 0.5rem\">SPECIES</span>\n",
       "</mark>\n",
       " residue retention on soil microbial communities under FT cycles. We investigated the response of soil microbial communities and co-occurrence networks to \n",
       "<mark class=\"entity\" style=\"background: #fb8072; padding: 0.45em 0.6em; margin: 0 0.25em; line-height: 1; border-radius: 0.35em;\">\n",
       "    maize\n",
       "    <span style=\"font-size: 0.8em; font-weight: bold; line-height: 1; border-radius: 0.35em; vertical-align: middle; margin-left: 0.5rem\">SPECIES</span>\n",
       "</mark>\n",
       " residue retention at different FT intensities over 12 cycles using a microcosm experiment conditioned in a temperature incubator. Our results indicated that \n",
       "<mark class=\"entity\" style=\"background: #fb8072; padding: 0.45em 0.6em; margin: 0 0.25em; line-height: 1; border-radius: 0.35em;\">\n",
       "    maize\n",
       "    <span style=\"font-size: 0.8em; font-weight: bold; line-height: 1; border-radius: 0.35em; vertical-align: middle; margin-left: 0.5rem\">SPECIES</span>\n",
       "</mark>\n",
       " residue retention induced dramatic shifts in soil archaeal, bacterial and fungal communities towards copiotroph-dominated communities. \n",
       "<mark class=\"entity\" style=\"background: #fb8072; padding: 0.45em 0.6em; margin: 0 0.25em; line-height: 1; border-radius: 0.35em;\">\n",
       "    Maize\n",
       "    <span style=\"font-size: 0.8em; font-weight: bold; line-height: 1; border-radius: 0.35em; vertical-align: middle; margin-left: 0.5rem\">SPECIES</span>\n",
       "</mark>\n",
       " residue retention consistently reduced soil fungal richness across all cycles, but this effect was weaker for archaea and bacteria. Normalized stochastic ratio analysis revealed that \n",
       "<mark class=\"entity\" style=\"background: #fb8072; padding: 0.45em 0.6em; margin: 0 0.25em; line-height: 1; border-radius: 0.35em;\">\n",
       "    maize\n",
       "    <span style=\"font-size: 0.8em; font-weight: bold; line-height: 1; border-radius: 0.35em; vertical-align: middle; margin-left: 0.5rem\">SPECIES</span>\n",
       "</mark>\n",
       " residue retention significantly enhanced the deterministic process of archaeal, bacterial and fungal communities. Although FT intensity significantly impacted soil respiration, it did not induce profound changes in soil microbial diversity and community composition. Co-occurrence network analysis revealed that \n",
       "<mark class=\"entity\" style=\"background: #fb8072; padding: 0.45em 0.6em; margin: 0 0.25em; line-height: 1; border-radius: 0.35em;\">\n",
       "    maize\n",
       "    <span style=\"font-size: 0.8em; font-weight: bold; line-height: 1; border-radius: 0.35em; vertical-align: middle; margin-left: 0.5rem\">SPECIES</span>\n",
       "</mark>\n",
       " residue retention simplified prokaryotic network, while did not impact fungal network complexity. The network robustness index suggested that \n",
       "<mark class=\"entity\" style=\"background: #fb8072; padding: 0.45em 0.6em; margin: 0 0.25em; line-height: 1; border-radius: 0.35em;\">\n",
       "    maize\n",
       "    <span style=\"font-size: 0.8em; font-weight: bold; line-height: 1; border-radius: 0.35em; vertical-align: middle; margin-left: 0.5rem\">SPECIES</span>\n",
       "</mark>\n",
       " residue retention enhanced the fungal network stability, but reduced prokaryotic network stability. Moreover, the fungal network in severe FT treatment harbored the most abundant keystone taxa, mainly being cold-adapted fungi. By identifying modules in networks, we observed that prokaryotic Module #1 and fungal Module #3 were enhanced by \n",
       "<mark class=\"entity\" style=\"background: #fb8072; padding: 0.45em 0.6em; margin: 0 0.25em; line-height: 1; border-radius: 0.35em;\">\n",
       "    maize\n",
       "    <span style=\"font-size: 0.8em; font-weight: bold; line-height: 1; border-radius: 0.35em; vertical-align: middle; margin-left: 0.5rem\">SPECIES</span>\n",
       "</mark>\n",
       " residue retention and contributed greatly to soil quality. Together, our results showed that \n",
       "<mark class=\"entity\" style=\"background: #fb8072; padding: 0.45em 0.6em; margin: 0 0.25em; line-height: 1; border-radius: 0.35em;\">\n",
       "    maize\n",
       "    <span style=\"font-size: 0.8em; font-weight: bold; line-height: 1; border-radius: 0.35em; vertical-align: middle; margin-left: 0.5rem\">SPECIES</span>\n",
       "</mark>\n",
       " residue retention exerted stronger influence on soil microbial communities and co-occurrence network patterns than FT intensity and highlighted the potential of microbial interactions in improving soil functionality.</div></span>"
      ],
      "text/plain": [
       "<IPython.core.display.HTML object>"
      ]
     },
     "metadata": {},
     "output_type": "display_data"
    },
    {
     "name": "stdout",
     "output_type": "stream",
     "text": [
      "******************************************************************************************************************************************************\n",
      "\n",
      "\n",
      "******************************************************************************************************************************************************\n",
      "1/1 [==============================] - 0s 69ms/step\n"
     ]
    },
    {
     "data": {
      "text/html": [
       "<span class=\"tex2jax_ignore\"><div class=\"entities\" style=\"line-height: 2.5; direction: ltr\">Fully equipped CARs to address \n",
       "<mark class=\"entity\" style=\"background: #bebada; padding: 0.45em 0.6em; margin: 0 0.25em; line-height: 1; border-radius: 0.35em;\">\n",
       "    tumor\n",
       "    <span style=\"font-size: 0.8em; font-weight: bold; line-height: 1; border-radius: 0.35em; vertical-align: middle; margin-left: 0.5rem\">DISEASE</span>\n",
       "</mark>\n",
       " heterogeneity, enhance safety, and improve the functionality of cellular immunotherapies. Although adoptive transfer of \n",
       "<mark class=\"entity\" style=\"background: #ffffb3; padding: 0.45em 0.6em; margin: 0 0.25em; line-height: 1; border-radius: 0.35em;\">\n",
       "    chimeric antigen receptor\n",
       "    <span style=\"font-size: 0.8em; font-weight: bold; line-height: 1; border-radius: 0.35em; vertical-align: middle; margin-left: 0.5rem\">GENE</span>\n",
       "</mark>\n",
       " (CAR)-engineered T cells has achieved unprecedented response rates in \n",
       "<mark class=\"entity\" style=\"background: #fb8072; padding: 0.45em 0.6em; margin: 0 0.25em; line-height: 1; border-radius: 0.35em;\">\n",
       "    patients\n",
       "    <span style=\"font-size: 0.8em; font-weight: bold; line-height: 1; border-radius: 0.35em; vertical-align: middle; margin-left: 0.5rem\">SPECIES</span>\n",
       "</mark>\n",
       " with certain \n",
       "<mark class=\"entity\" style=\"background: #bebada; padding: 0.45em 0.6em; margin: 0 0.25em; line-height: 1; border-radius: 0.35em;\">\n",
       "    hematological malignancies\n",
       "    <span style=\"font-size: 0.8em; font-weight: bold; line-height: 1; border-radius: 0.35em; vertical-align: middle; margin-left: 0.5rem\">DISEASE</span>\n",
       "</mark>\n",
       ", this therapeutic modality is still far from fulfilling its remarkable potential, especially in the context of \n",
       "<mark class=\"entity\" style=\"background: #bebada; padding: 0.45em 0.6em; margin: 0 0.25em; line-height: 1; border-radius: 0.35em;\">\n",
       "    solid\n",
       "    <span style=\"font-size: 0.8em; font-weight: bold; line-height: 1; border-radius: 0.35em; vertical-align: middle; margin-left: 0.5rem\">DISEASE</span>\n",
       "</mark>\n",
       " \n",
       "<mark class=\"entity\" style=\"background: #bebada; padding: 0.45em 0.6em; margin: 0 0.25em; line-height: 1; border-radius: 0.35em;\">\n",
       "    cancers\n",
       "    <span style=\"font-size: 0.8em; font-weight: bold; line-height: 1; border-radius: 0.35em; vertical-align: middle; margin-left: 0.5rem\">DISEASE</span>\n",
       "</mark>\n",
       ". Antigen escape variants, off-tumor destruction of healthy tissues expressing \n",
       "<mark class=\"entity\" style=\"background: #bebada; padding: 0.45em 0.6em; margin: 0 0.25em; line-height: 1; border-radius: 0.35em;\">\n",
       "    tumor\n",
       "    <span style=\"font-size: 0.8em; font-weight: bold; line-height: 1; border-radius: 0.35em; vertical-align: middle; margin-left: 0.5rem\">DISEASE</span>\n",
       "</mark>\n",
       "-associated antigens (TAAs), poor CAR-T cell persistence, and the occurrence of functional exhaustion represent some of the most prominent hurdles that limit CAR-T cell ability to induce long-lasting remissions with a tolerable adverse effect profile. In this review, we summarize the main approaches that have been developed to face such bottlenecks, including the adapter \n",
       "<mark class=\"entity\" style=\"background: #ffffb3; padding: 0.45em 0.6em; margin: 0 0.25em; line-height: 1; border-radius: 0.35em;\">\n",
       "    CAR\n",
       "    <span style=\"font-size: 0.8em; font-weight: bold; line-height: 1; border-radius: 0.35em; vertical-align: middle; margin-left: 0.5rem\">GENE</span>\n",
       "</mark>\n",
       " (AdCAR) system, Boolean-logic gating, epitope editing, the modulation of cell-intrinsic signaling pathways, and the incorporation of safety switches to precisely control CAR-T cell activation. We also discuss the most pressing issues pertaining to the selection of co-stimulatory domains, with a focus on strategies aimed at promoting CAR-T cell persistence and optimal antitumor functionality.</div></span>"
      ],
      "text/plain": [
       "<IPython.core.display.HTML object>"
      ]
     },
     "metadata": {},
     "output_type": "display_data"
    },
    {
     "name": "stdout",
     "output_type": "stream",
     "text": [
      "******************************************************************************************************************************************************\n",
      "\n",
      "\n",
      "******************************************************************************************************************************************************\n",
      "1/1 [==============================] - 0s 58ms/step\n"
     ]
    },
    {
     "data": {
      "text/html": [
       "<span class=\"tex2jax_ignore\"><div class=\"entities\" style=\"line-height: 2.5; direction: ltr\">The most common mistakes in intensive care - \n",
       "<mark class=\"entity\" style=\"background: #8dd3c7; padding: 0.45em 0.6em; margin: 0 0.25em; line-height: 1; border-radius: 0.35em;\">\n",
       "    antibiotics\n",
       "    <span style=\"font-size: 0.8em; font-weight: bold; line-height: 1; border-radius: 0.35em; vertical-align: middle; margin-left: 0.5rem\">CHEMICAL</span>\n",
       "</mark>\n",
       ". The enormous increase in antibiotic resistance and the limited spectrum of new, effective antibiotics are the reasons why we should think about a rational approach to anti-infective therapy. The excessive and non-indicated use of \n",
       "<mark class=\"entity\" style=\"background: #8dd3c7; padding: 0.45em 0.6em; margin: 0 0.25em; line-height: 1; border-radius: 0.35em;\">\n",
       "    antibiotics\n",
       "    <span style=\"font-size: 0.8em; font-weight: bold; line-height: 1; border-radius: 0.35em; vertical-align: middle; margin-left: 0.5rem\">CHEMICAL</span>\n",
       "</mark>\n",
       " while treating \n",
       "<mark class=\"entity\" style=\"background: #bebada; padding: 0.45em 0.6em; margin: 0 0.25em; line-height: 1; border-radius: 0.35em;\">\n",
       "    critically ill\n",
       "    <span style=\"font-size: 0.8em; font-weight: bold; line-height: 1; border-radius: 0.35em; vertical-align: middle; margin-left: 0.5rem\">DISEASE</span>\n",
       "</mark>\n",
       " \n",
       "<mark class=\"entity\" style=\"background: #fb8072; padding: 0.45em 0.6em; margin: 0 0.25em; line-height: 1; border-radius: 0.35em;\">\n",
       "    patients\n",
       "    <span style=\"font-size: 0.8em; font-weight: bold; line-height: 1; border-radius: 0.35em; vertical-align: middle; margin-left: 0.5rem\">SPECIES</span>\n",
       "</mark>\n",
       " can be found quite often in clinical practice. \n",
       "<mark class=\"entity\" style=\"background: #8dd3c7; padding: 0.45em 0.6em; margin: 0 0.25em; line-height: 1; border-radius: 0.35em;\">\n",
       "    Antibiotic\n",
       "    <span style=\"font-size: 0.8em; font-weight: bold; line-height: 1; border-radius: 0.35em; vertical-align: middle; margin-left: 0.5rem\">CHEMICAL</span>\n",
       "</mark>\n",
       " therapy is usually indicated empirically, or it is only based on therapeutic indecision, not just in ICU \n",
       "<mark class=\"entity\" style=\"background: #fb8072; padding: 0.45em 0.6em; margin: 0 0.25em; line-height: 1; border-radius: 0.35em;\">\n",
       "    patients\n",
       "    <span style=\"font-size: 0.8em; font-weight: bold; line-height: 1; border-radius: 0.35em; vertical-align: middle; margin-left: 0.5rem\">SPECIES</span>\n",
       "</mark>\n",
       ". The antibiotics are administered before taking a sample for microbiological analysis or there is no therapy adjustment based on the laboratory findings. The solution lies in antibiotic stewardship, which is the way to ensure that \n",
       "<mark class=\"entity\" style=\"background: #8dd3c7; padding: 0.45em 0.6em; margin: 0 0.25em; line-height: 1; border-radius: 0.35em;\">\n",
       "    antibiotics\n",
       "    <span style=\"font-size: 0.8em; font-weight: bold; line-height: 1; border-radius: 0.35em; vertical-align: middle; margin-left: 0.5rem\">CHEMICAL</span>\n",
       "</mark>\n",
       " will be sufficiently effective in years to come.</div></span>"
      ],
      "text/plain": [
       "<IPython.core.display.HTML object>"
      ]
     },
     "metadata": {},
     "output_type": "display_data"
    },
    {
     "name": "stdout",
     "output_type": "stream",
     "text": [
      "******************************************************************************************************************************************************\n",
      "\n",
      "\n",
      "******************************************************************************************************************************************************\n"
     ]
    }
   ],
   "source": [
    "for text in texts['text'].values:\n",
    "    doc = nlp(text)\n",
    "    \n",
    "    spans = []\n",
    "    for ent in ML_Tag(text, ml_model=nn_model, entity_type='ALL'):\n",
    "        spans.append(doc.char_span(int(ent[0]), int(ent[1]), ent[2].upper()))\n",
    "    \n",
    "    try:\n",
    "        doc.ents = spans\n",
    "    except:\n",
    "        doc.ents = []\n",
    "    \n",
    "    displacy.render(doc, style=\"ent\", options={'colors': COLORS})\n",
    "\n",
    "    print('*'*150)\n",
    "    print('\\n')\n",
    "    print('*'*150)"
   ]
  },
  {
   "cell_type": "markdown",
   "id": "cd3062c9-6b5f-44ec-9742-f3f4d791db5c",
   "metadata": {},
   "source": [
    "# AnatEM entities"
   ]
  },
  {
   "cell_type": "code",
   "execution_count": 11,
   "id": "86ec55cc-ebd8-452f-b469-85380b16711f",
   "metadata": {},
   "outputs": [],
   "source": [
    "entities = ['Cell_component', 'Tissue', 'Cancer', 'Organ', 'Multi-tissue_structure']"
   ]
  },
  {
   "cell_type": "code",
   "execution_count": 12,
   "id": "765742e8-8405-49b6-8e4c-967c63e68ae9",
   "metadata": {},
   "outputs": [],
   "source": [
    "COLORS = plt.cycler(\"color\", plt.cm.Set3.colors)\n",
    "COLORS = [matplotlib.colors.to_hex(c['color']) for c in COLORS]\n",
    "COLORS = dict(zip(entities,COLORS[:len(entities)]))"
   ]
  },
  {
   "cell_type": "markdown",
   "id": "36066a62-45e5-4cbe-af8d-b894acdc8661",
   "metadata": {},
   "source": [
    "## BiomedBERT-base abstract"
   ]
  },
  {
   "cell_type": "code",
   "execution_count": 13,
   "id": "64ae453c-9cea-4e15-b113-1698d26c9b37",
   "metadata": {},
   "outputs": [],
   "source": [
    "vocabfiles={'labelfile':'../vocab/AnatEM_selected_label.vocab',\n",
    "            'checkpoint_path':'../pretrained_models/BiomedNLP-PubMedBERT-base-uncased-abstract/',\n",
    "            'lowercase':True\n",
    "           }"
   ]
  },
  {
   "cell_type": "code",
   "execution_count": 14,
   "id": "c2181030-313e-4e57-8d0d-ba7a42ef3eef",
   "metadata": {},
   "outputs": [],
   "source": [
    "%%capture\n",
    "\n",
    "nn_model = HUGFACE_NER(vocabfiles)\n",
    "nn_model.build_encoder()\n",
    "\n",
    "nn_model.build_crf_decoder()\n",
    "\n",
    "nn_model.load_model('../models/AnatEM/pubmedbert/pubmedbert-best-finetune.h5')"
   ]
  },
  {
   "cell_type": "code",
   "execution_count": 15,
   "id": "1fa5b522-f4de-4275-90cf-02e36716d8cd",
   "metadata": {},
   "outputs": [
    {
     "name": "stdout",
     "output_type": "stream",
     "text": [
      "1/1 [==============================] - 1s 1s/step\n"
     ]
    },
    {
     "data": {
      "text/html": [
       "<span class=\"tex2jax_ignore\"><div class=\"entities\" style=\"line-height: 2.5; direction: ltr\">Salsolinol as an RNA m6A methylation inducer mediates dopaminergic neuronal death by regulating YAP1 and autophagy. JOURNAL/nrgr/04.03/01300535-202503000-00032/figure1/v/2024-06-17T092413Z/r/image-tiff Salsolinol (1-methyl-6,7-dihydroxy-1,2,3,4-tetrahydroisoquinoline, Sal) is a catechol isoquinoline that causes neurotoxicity and shares structural similarity with 1-methyl-4-phenyl-1,2,3,6-tetrahydropyridine, an environmental toxin that causes Parkinson's disease. However, the mechanism by which Sal mediates dopaminergic neuronal death remains unclear. In this study, we found that Sal significantly enhanced the global level of N6-methyladenosine (m6A) RNA methylation in PC12 cells, mainly by inducing the downregulation of the expression of m6A demethylases fat mass and obesity-associated protein (FTO) and alkB homolog 5 (ALKBH5). RNA sequencing analysis showed that Sal downregulated the Hippo signaling pathway. The m6A reader YTH domain-containing family protein 2 (YTHDF2) promoted the degradation of m6A-containing Yes-associated protein 1 (YAP1) mRNA, which is a downstream key effector in the Hippo signaling pathway. Additionally, downregulation of YAP1 promoted autophagy, indicating that the mutual regulation between YAP1 and autophagy can lead to neurotoxicity. These findings reveal the role of Sal on m6A RNA methylation and suggest that Sal may act as an RNA methylation inducer mediating dopaminergic neuronal death through YAP1 and autophagy. Our results provide greater insights into the neurotoxic effects of catechol isoquinolines compared with other studies and may be a reference for assessing the involvement of RNA methylation in the pathogenesis of Parkinson's disease.</div></span>"
      ],
      "text/plain": [
       "<IPython.core.display.HTML object>"
      ]
     },
     "metadata": {},
     "output_type": "display_data"
    },
    {
     "name": "stdout",
     "output_type": "stream",
     "text": [
      "******************************************************************************************************************************************************\n",
      "\n",
      "\n",
      "******************************************************************************************************************************************************\n",
      "1/1 [==============================] - 0s 58ms/step\n"
     ]
    },
    {
     "data": {
      "text/html": [
       "<span class=\"tex2jax_ignore\"><div class=\"entities\" style=\"line-height: 2.5; direction: ltr\">Sources and applications of endothelial seed cells: a review. Endothelial cells (ECs) are widely used as donor cells in \n",
       "<mark class=\"entity\" style=\"background: #ffffb3; padding: 0.45em 0.6em; margin: 0 0.25em; line-height: 1; border-radius: 0.35em;\">\n",
       "    tissue\n",
       "    <span style=\"font-size: 0.8em; font-weight: bold; line-height: 1; border-radius: 0.35em; vertical-align: middle; margin-left: 0.5rem\">TISSUE</span>\n",
       "</mark>\n",
       " engineering, \n",
       "<mark class=\"entity\" style=\"background: #80b1d3; padding: 0.45em 0.6em; margin: 0 0.25em; line-height: 1; border-radius: 0.35em;\">\n",
       "    organoid\n",
       "    <span style=\"font-size: 0.8em; font-weight: bold; line-height: 1; border-radius: 0.35em; vertical-align: middle; margin-left: 0.5rem\">MULTI-TISSUE_STRUCTURE</span>\n",
       "</mark>\n",
       " vascularization, and in vitro \n",
       "<mark class=\"entity\" style=\"background: #ffffb3; padding: 0.45em 0.6em; margin: 0 0.25em; line-height: 1; border-radius: 0.35em;\">\n",
       "    microvascular\n",
       "    <span style=\"font-size: 0.8em; font-weight: bold; line-height: 1; border-radius: 0.35em; vertical-align: middle; margin-left: 0.5rem\">TISSUE</span>\n",
       "</mark>\n",
       " model development. ECs are invaluable tools for disease modeling and drug screening in fundamental research. When treating ischemic diseases, EC engraftment facilitates the restoration of damaged \n",
       "<mark class=\"entity\" style=\"background: #80b1d3; padding: 0.45em 0.6em; margin: 0 0.25em; line-height: 1; border-radius: 0.35em;\">\n",
       "    blood vessels\n",
       "    <span style=\"font-size: 0.8em; font-weight: bold; line-height: 1; border-radius: 0.35em; vertical-align: middle; margin-left: 0.5rem\">MULTI-TISSUE_STRUCTURE</span>\n",
       "</mark>\n",
       ", enhancing therapeutic outcomes. This article presents a comprehensive overview of the current sources of ECs, which encompass stem/progenitor cells, primary ECs, cell lineage conversion, and ECs derived from other cellular sources, provides insights into their characteristics, potential applications, discusses challenges, and explores strategies to mitigate these issues. The primary aim is to serve as a reference for selecting suitable EC sources for preclinical research and promote the translation of basic research into clinical applications.</div></span>"
      ],
      "text/plain": [
       "<IPython.core.display.HTML object>"
      ]
     },
     "metadata": {},
     "output_type": "display_data"
    },
    {
     "name": "stdout",
     "output_type": "stream",
     "text": [
      "******************************************************************************************************************************************************\n",
      "\n",
      "\n",
      "******************************************************************************************************************************************************\n",
      "1/1 [==============================] - 0s 57ms/step\n"
     ]
    },
    {
     "data": {
      "text/html": [
       "<span class=\"tex2jax_ignore\"><div class=\"entities\" style=\"line-height: 2.5; direction: ltr\">Combination Antifungal Therapy for Invasive Mucormycosis in Immunocompromised Hosts: A Single-Center Experience. Combination antifungal therapy for invasive mucormycosis remains controversial and is inconsistently defined in prior studies. In a cohort of patients with immunocompromised status and invasive mucormycosis, we found no difference in 6-week mortality with up-front or salvage combination therapy as compared with monotherapy.</div></span>"
      ],
      "text/plain": [
       "<IPython.core.display.HTML object>"
      ]
     },
     "metadata": {},
     "output_type": "display_data"
    },
    {
     "name": "stdout",
     "output_type": "stream",
     "text": [
      "******************************************************************************************************************************************************\n",
      "\n",
      "\n",
      "******************************************************************************************************************************************************\n",
      "1/1 [==============================] - 0s 66ms/step\n"
     ]
    },
    {
     "data": {
      "text/html": [
       "<span class=\"tex2jax_ignore\"><div class=\"entities\" style=\"line-height: 2.5; direction: ltr\">The \n",
       "<mark class=\"entity\" style=\"background: #fb8072; padding: 0.45em 0.6em; margin: 0 0.25em; line-height: 1; border-radius: 0.35em;\">\n",
       "    skin\n",
       "    <span style=\"font-size: 0.8em; font-weight: bold; line-height: 1; border-radius: 0.35em; vertical-align: middle; margin-left: 0.5rem\">ORGAN</span>\n",
       "</mark>\n",
       " barrier and microbiome in infantile atopic dermatitis development: can \n",
       "<mark class=\"entity\" style=\"background: #fb8072; padding: 0.45em 0.6em; margin: 0 0.25em; line-height: 1; border-radius: 0.35em;\">\n",
       "    skin\n",
       "    <span style=\"font-size: 0.8em; font-weight: bold; line-height: 1; border-radius: 0.35em; vertical-align: middle; margin-left: 0.5rem\">ORGAN</span>\n",
       "</mark>\n",
       " care prevent onset? Atopic dermatitis (AD), a prevalent Th2-dominant \n",
       "<mark class=\"entity\" style=\"background: #fb8072; padding: 0.45em 0.6em; margin: 0 0.25em; line-height: 1; border-radius: 0.35em;\">\n",
       "    skin\n",
       "    <span style=\"font-size: 0.8em; font-weight: bold; line-height: 1; border-radius: 0.35em; vertical-align: middle; margin-left: 0.5rem\">ORGAN</span>\n",
       "</mark>\n",
       " disease, involves complex genetic and environmental factors, including mutations in the Filaggrin gene and dysbiosis of \n",
       "<mark class=\"entity\" style=\"background: #fb8072; padding: 0.45em 0.6em; margin: 0 0.25em; line-height: 1; border-radius: 0.35em;\">\n",
       "    skin\n",
       "    <span style=\"font-size: 0.8em; font-weight: bold; line-height: 1; border-radius: 0.35em; vertical-align: middle; margin-left: 0.5rem\">ORGAN</span>\n",
       "</mark>\n",
       " microbiota characterized by an increased abundance of Staphylococcus aureus. Our recent findings emphasize the pivotal role of the \n",
       "<mark class=\"entity\" style=\"background: #fb8072; padding: 0.45em 0.6em; margin: 0 0.25em; line-height: 1; border-radius: 0.35em;\">\n",
       "    skin\n",
       "    <span style=\"font-size: 0.8em; font-weight: bold; line-height: 1; border-radius: 0.35em; vertical-align: middle; margin-left: 0.5rem\">ORGAN</span>\n",
       "</mark>\n",
       " barrier's integrity and microbial composition in infantile AD and allergic diseases. Early \n",
       "<mark class=\"entity\" style=\"background: #fb8072; padding: 0.45em 0.6em; margin: 0 0.25em; line-height: 1; border-radius: 0.35em;\">\n",
       "    skin\n",
       "    <span style=\"font-size: 0.8em; font-weight: bold; line-height: 1; border-radius: 0.35em; vertical-align: middle; margin-left: 0.5rem\">ORGAN</span>\n",
       "</mark>\n",
       " dysbiosis predisposes infants to AD, suggesting targeted \n",
       "<mark class=\"entity\" style=\"background: #80b1d3; padding: 0.45em 0.6em; margin: 0 0.25em; line-height: 1; border-radius: 0.35em;\">\n",
       "    skincare\n",
       "    <span style=\"font-size: 0.8em; font-weight: bold; line-height: 1; border-radius: 0.35em; vertical-align: middle; margin-left: 0.5rem\">MULTI-TISSUE_STRUCTURE</span>\n",
       "</mark>\n",
       " practices as a preventive strategy. The effects of skincare interventions, particularly the application of moisturizers with the appropriate molar concentration of ceramides, cholesterol, and fatty acids, play a crucial role in restoring the \n",
       "<mark class=\"entity\" style=\"background: #fb8072; padding: 0.45em 0.6em; margin: 0 0.25em; line-height: 1; border-radius: 0.35em;\">\n",
       "    skin\n",
       "    <span style=\"font-size: 0.8em; font-weight: bold; line-height: 1; border-radius: 0.35em; vertical-align: middle; margin-left: 0.5rem\">ORGAN</span>\n",
       "</mark>\n",
       " barrier. Notably, our study revealed that appropriate \n",
       "<mark class=\"entity\" style=\"background: #fb8072; padding: 0.45em 0.6em; margin: 0 0.25em; line-height: 1; border-radius: 0.35em;\">\n",
       "    skincare\n",
       "    <span style=\"font-size: 0.8em; font-weight: bold; line-height: 1; border-radius: 0.35em; vertical-align: middle; margin-left: 0.5rem\">ORGAN</span>\n",
       "</mark>\n",
       " can reduce Streptococcus abundance while supporting Cutibacterium acnes presence, thus directly linking \n",
       "<mark class=\"entity\" style=\"background: #fb8072; padding: 0.45em 0.6em; margin: 0 0.25em; line-height: 1; border-radius: 0.35em;\">\n",
       "    skincare\n",
       "    <span style=\"font-size: 0.8em; font-weight: bold; line-height: 1; border-radius: 0.35em; vertical-align: middle; margin-left: 0.5rem\">ORGAN</span>\n",
       "</mark>\n",
       " practices to microbial modulation in neonatal \n",
       "<mark class=\"entity\" style=\"background: #fb8072; padding: 0.45em 0.6em; margin: 0 0.25em; line-height: 1; border-radius: 0.35em;\">\n",
       "    skin\n",
       "    <span style=\"font-size: 0.8em; font-weight: bold; line-height: 1; border-radius: 0.35em; vertical-align: middle; margin-left: 0.5rem\">ORGAN</span>\n",
       "</mark>\n",
       ". Despite the mixed outcomes of previous Randomized Controlled Trials on the efficacy of moisturizers in AD prevention, our research points to the potential of skincare intervention as a primary preventive method against AD by minimizing the impact of genetic and environmental factors. Furthermore, our research supports the notion that early aggressive management of eczema may reduce the incidence of food allergies, highlighting the necessity for multifaceted prevention strategies that address both the \n",
       "<mark class=\"entity\" style=\"background: #fb8072; padding: 0.45em 0.6em; margin: 0 0.25em; line-height: 1; border-radius: 0.35em;\">\n",
       "    skin\n",
       "    <span style=\"font-size: 0.8em; font-weight: bold; line-height: 1; border-radius: 0.35em; vertical-align: middle; margin-left: 0.5rem\">ORGAN</span>\n",
       "</mark>\n",
       " barrier and immune sensitization. By focusing on repairing the \n",
       "<mark class=\"entity\" style=\"background: #fb8072; padding: 0.45em 0.6em; margin: 0 0.25em; line-height: 1; border-radius: 0.35em;\">\n",
       "    skin barrier\n",
       "    <span style=\"font-size: 0.8em; font-weight: bold; line-height: 1; border-radius: 0.35em; vertical-align: middle; margin-left: 0.5rem\">ORGAN</span>\n",
       "</mark>\n",
       " and adjusting the \n",
       "<mark class=\"entity\" style=\"background: #fb8072; padding: 0.45em 0.6em; margin: 0 0.25em; line-height: 1; border-radius: 0.35em;\">\n",
       "    skin\n",
       "    <span style=\"font-size: 0.8em; font-weight: bold; line-height: 1; border-radius: 0.35em; vertical-align: middle; margin-left: 0.5rem\">ORGAN</span>\n",
       "</mark>\n",
       "'s microbiome from birth, we propose a novel perspective on preventing infantile AD and allergic diseases, opening new avenues for future studies and practices in allergy prevention.</div></span>"
      ],
      "text/plain": [
       "<IPython.core.display.HTML object>"
      ]
     },
     "metadata": {},
     "output_type": "display_data"
    },
    {
     "name": "stdout",
     "output_type": "stream",
     "text": [
      "******************************************************************************************************************************************************\n",
      "\n",
      "\n",
      "******************************************************************************************************************************************************\n",
      "1/1 [==============================] - 0s 77ms/step\n"
     ]
    },
    {
     "data": {
      "text/html": [
       "<span class=\"tex2jax_ignore\"><div class=\"entities\" style=\"line-height: 2.5; direction: ltr\">Comparison of the effectiveness of enhanced cognitive-behavioral couple therapy on emotional self-regulation and couple burnout of self-assigned and court-referred incompatible couples. This study aimed to investigate the comparative effectiveness of enhanced cognitive-behavioral couple therapy (ECBCT) on emotional self-regulation and couple burnout in incompatible couples. The study hypothesizes that ECBCT is efficacious in emotional self-regulation and marital burnout of incompatible Iranian couples (self-assigned and court-referred) visiting counseling centers. Twenty-eight Iranian couples were divided into four groups (two self-assigned and court-referred experimental groups and two self-assigned and court-referred control groups) who were selected using the available sampling. The experimental groups were subjected to ECBCT, while the control groups received no therapy. Over time, there was an improvement in emotional self-regulation and marital burnout in experimental groups compared with control groups. This intervention was more efficacious for the self-assigned couples of the experimental group according to the Eta coefficient, which was 71 for emotional self-regulation and 66 for marital burnout. ECBCT helps couples improve their emotional self-regulation and couple burnout.</div></span>"
      ],
      "text/plain": [
       "<IPython.core.display.HTML object>"
      ]
     },
     "metadata": {},
     "output_type": "display_data"
    },
    {
     "name": "stdout",
     "output_type": "stream",
     "text": [
      "******************************************************************************************************************************************************\n",
      "\n",
      "\n",
      "******************************************************************************************************************************************************\n",
      "1/1 [==============================] - 0s 66ms/step\n"
     ]
    },
    {
     "data": {
      "text/html": [
       "<span class=\"tex2jax_ignore\"><div class=\"entities\" style=\"line-height: 2.5; direction: ltr\">Extended \n",
       "<mark class=\"entity\" style=\"background: #80b1d3; padding: 0.45em 0.6em; margin: 0 0.25em; line-height: 1; border-radius: 0.35em;\">\n",
       "    Left Hemihapatectomy\n",
       "    <span style=\"font-size: 0.8em; font-weight: bold; line-height: 1; border-radius: 0.35em; vertical-align: middle; margin-left: 0.5rem\">MULTI-TISSUE_STRUCTURE</span>\n",
       "</mark>\n",
       " with \n",
       "<mark class=\"entity\" style=\"background: #80b1d3; padding: 0.45em 0.6em; margin: 0 0.25em; line-height: 1; border-radius: 0.35em;\">\n",
       "    Right Hepatic Artery\n",
       "    <span style=\"font-size: 0.8em; font-weight: bold; line-height: 1; border-radius: 0.35em; vertical-align: middle; margin-left: 0.5rem\">MULTI-TISSUE_STRUCTURE</span>\n",
       "</mark>\n",
       " Reconstruction for \n",
       "<mark class=\"entity\" style=\"background: #bebada; padding: 0.45em 0.6em; margin: 0 0.25em; line-height: 1; border-radius: 0.35em;\">\n",
       "    Primary Hepatic Neuroendocrine Neoplasm\n",
       "    <span style=\"font-size: 0.8em; font-weight: bold; line-height: 1; border-radius: 0.35em; vertical-align: middle; margin-left: 0.5rem\">CANCER</span>\n",
       "</mark>\n",
       ": A Brief Report. BACKGROUND \n",
       "<mark class=\"entity\" style=\"background: #bebada; padding: 0.45em 0.6em; margin: 0 0.25em; line-height: 1; border-radius: 0.35em;\">\n",
       "    rimary hepatic neuroendocrine neoplasms\n",
       "    <span style=\"font-size: 0.8em; font-weight: bold; line-height: 1; border-radius: 0.35em; vertical-align: middle; margin-left: 0.5rem\">CANCER</span>\n",
       "</mark>\n",
       " (\n",
       "<mark class=\"entity\" style=\"background: #bebada; padding: 0.45em 0.6em; margin: 0 0.25em; line-height: 1; border-radius: 0.35em;\">\n",
       "    PHNEN\n",
       "    <span style=\"font-size: 0.8em; font-weight: bold; line-height: 1; border-radius: 0.35em; vertical-align: middle; margin-left: 0.5rem\">CANCER</span>\n",
       "</mark>\n",
       ") are exceedingly rare \n",
       "<mark class=\"entity\" style=\"background: #bebada; padding: 0.45em 0.6em; margin: 0 0.25em; line-height: 1; border-radius: 0.35em;\">\n",
       "    tumors\n",
       "    <span style=\"font-size: 0.8em; font-weight: bold; line-height: 1; border-radius: 0.35em; vertical-align: middle; margin-left: 0.5rem\">CANCER</span>\n",
       "</mark>\n",
       " with atypical clinical manifestations, accounting for less than 0.5% of all \n",
       "<mark class=\"entity\" style=\"background: #bebada; padding: 0.45em 0.6em; margin: 0 0.25em; line-height: 1; border-radius: 0.35em;\">\n",
       "    neuroendocrine tumors\n",
       "    <span style=\"font-size: 0.8em; font-weight: bold; line-height: 1; border-radius: 0.35em; vertical-align: middle; margin-left: 0.5rem\">CANCER</span>\n",
       "</mark>\n",
       ". Currently, there is a lack of consensus on their management, and guidelines do not recommend postoperative chemotherapy for patients with stage G1/G2 disease after curative resection. We present a case report of PHNEN, outlining its diagnostic challenges, treatment strategy, and clinical outcomes. CASE REPORT A 31-year-old man presented with jaundice and was initially diagnosed with suspected IgG4-related disease, which initially appeared to respond to steroid therapy, but manifested worsening jaundice 4 months after initial treatment. Subsequent evaluation revealed a PHNEN NET G2 with \n",
       "<mark class=\"entity\" style=\"background: #80b1d3; padding: 0.45em 0.6em; margin: 0 0.25em; line-height: 1; border-radius: 0.35em;\">\n",
       "    lymph node\n",
       "    <span style=\"font-size: 0.8em; font-weight: bold; line-height: 1; border-radius: 0.35em; vertical-align: middle; margin-left: 0.5rem\">MULTI-TISSUE_STRUCTURE</span>\n",
       "</mark>\n",
       " metastasis and invasion of the \n",
       "<mark class=\"entity\" style=\"background: #80b1d3; padding: 0.45em 0.6em; margin: 0 0.25em; line-height: 1; border-radius: 0.35em;\">\n",
       "    right hepatic artery\n",
       "    <span style=\"font-size: 0.8em; font-weight: bold; line-height: 1; border-radius: 0.35em; vertical-align: middle; margin-left: 0.5rem\">MULTI-TISSUE_STRUCTURE</span>\n",
       "</mark>\n",
       "; and involvement of the \n",
       "<mark class=\"entity\" style=\"background: #80b1d3; padding: 0.45em 0.6em; margin: 0 0.25em; line-height: 1; border-radius: 0.35em;\">\n",
       "    hepatic duct\n",
       "    <span style=\"font-size: 0.8em; font-weight: bold; line-height: 1; border-radius: 0.35em; vertical-align: middle; margin-left: 0.5rem\">MULTI-TISSUE_STRUCTURE</span>\n",
       "</mark>\n",
       " at the \n",
       "<mark class=\"entity\" style=\"background: #80b1d3; padding: 0.45em 0.6em; margin: 0 0.25em; line-height: 1; border-radius: 0.35em;\">\n",
       "    hepatic hilum\n",
       "    <span style=\"font-size: 0.8em; font-weight: bold; line-height: 1; border-radius: 0.35em; vertical-align: middle; margin-left: 0.5rem\">MULTI-TISSUE_STRUCTURE</span>\n",
       "</mark>\n",
       ", primarily the \n",
       "<mark class=\"entity\" style=\"background: #80b1d3; padding: 0.45em 0.6em; margin: 0 0.25em; line-height: 1; border-radius: 0.35em;\">\n",
       "    left hepatic duct\n",
       "    <span style=\"font-size: 0.8em; font-weight: bold; line-height: 1; border-radius: 0.35em; vertical-align: middle; margin-left: 0.5rem\">MULTI-TISSUE_STRUCTURE</span>\n",
       "</mark>\n",
       ". The patient underwent extended \n",
       "<mark class=\"entity\" style=\"background: #80b1d3; padding: 0.45em 0.6em; margin: 0 0.25em; line-height: 1; border-radius: 0.35em;\">\n",
       "    left\n",
       "    <span style=\"font-size: 0.8em; font-weight: bold; line-height: 1; border-radius: 0.35em; vertical-align: middle; margin-left: 0.5rem\">MULTI-TISSUE_STRUCTURE</span>\n",
       "</mark>\n",
       " hemi-hepatectomy with \n",
       "<mark class=\"entity\" style=\"background: #80b1d3; padding: 0.45em 0.6em; margin: 0 0.25em; line-height: 1; border-radius: 0.35em;\">\n",
       "    caudate lobe\n",
       "    <span style=\"font-size: 0.8em; font-weight: bold; line-height: 1; border-radius: 0.35em; vertical-align: middle; margin-left: 0.5rem\">MULTI-TISSUE_STRUCTURE</span>\n",
       "</mark>\n",
       " resection, \n",
       "<mark class=\"entity\" style=\"background: #80b1d3; padding: 0.45em 0.6em; margin: 0 0.25em; line-height: 1; border-radius: 0.35em;\">\n",
       "    bile duct\n",
       "    <span style=\"font-size: 0.8em; font-weight: bold; line-height: 1; border-radius: 0.35em; vertical-align: middle; margin-left: 0.5rem\">MULTI-TISSUE_STRUCTURE</span>\n",
       "</mark>\n",
       " resection, and lymphadenectomy, followed by reconstruction of the \n",
       "<mark class=\"entity\" style=\"background: #80b1d3; padding: 0.45em 0.6em; margin: 0 0.25em; line-height: 1; border-radius: 0.35em;\">\n",
       "    right hepatic artery\n",
       "    <span style=\"font-size: 0.8em; font-weight: bold; line-height: 1; border-radius: 0.35em; vertical-align: middle; margin-left: 0.5rem\">MULTI-TISSUE_STRUCTURE</span>\n",
       "</mark>\n",
       ". Postoperatively, the patient received adjuvant chemotherapy consisting of capecitabine (1000 mg bid D1-14) and temozolomide (200 mg qn D10-14) for 6 cycles. Currently, the patient remains disease free 43 months after treatment. CONCLUSIONS \n",
       "<mark class=\"entity\" style=\"background: #bebada; padding: 0.45em 0.6em; margin: 0 0.25em; line-height: 1; border-radius: 0.35em;\">\n",
       "    PHNEN\n",
       "    <span style=\"font-size: 0.8em; font-weight: bold; line-height: 1; border-radius: 0.35em; vertical-align: middle; margin-left: 0.5rem\">CANCER</span>\n",
       "</mark>\n",
       " presents diagnostic challenges due to its rarity and lack of specific markers. Surgical resection remains the cornerstone of treatment, with chemotherapy being considered in select cases with high-risk features. Further research is needed to refine treatment approaches and improve outcomes for patients with PHNEN.</div></span>"
      ],
      "text/plain": [
       "<IPython.core.display.HTML object>"
      ]
     },
     "metadata": {},
     "output_type": "display_data"
    },
    {
     "name": "stdout",
     "output_type": "stream",
     "text": [
      "******************************************************************************************************************************************************\n",
      "\n",
      "\n",
      "******************************************************************************************************************************************************\n",
      "1/1 [==============================] - 0s 70ms/step\n"
     ]
    },
    {
     "data": {
      "text/html": [
       "<span class=\"tex2jax_ignore\"><div class=\"entities\" style=\"line-height: 2.5; direction: ltr\">Asylum seekers and the role of the acute care physician. There has been a recent influx of migrants and asylum seekers to the United States. They often arrive with poor social support and an inability to access reliable health care. This can lead to overutilization of emergency departments (ED) while awaiting legal proceedings. With asylum seekers in all 50 states, it is important for emergency physicians (EP) to understand the barriers to care and difficulties asylum seekers face, and to gain tools to improve both migrants' and community health. Migration and experiences within the United States can worsen pre-existing health conditions. EPs are uniquely positioned to screen for acute pathology and link people to care. Psychiatric illnesses may present differently in asylum seekers. EPs must understand the sequalae of trauma to address it. EPs must also be aware of legal protections for asylum seekers to care for these patients, and recognize challenges faced by the population to mitigate health disparities.</div></span>"
      ],
      "text/plain": [
       "<IPython.core.display.HTML object>"
      ]
     },
     "metadata": {},
     "output_type": "display_data"
    },
    {
     "name": "stdout",
     "output_type": "stream",
     "text": [
      "******************************************************************************************************************************************************\n",
      "\n",
      "\n",
      "******************************************************************************************************************************************************\n",
      "1/1 [==============================] - 0s 75ms/step\n"
     ]
    },
    {
     "data": {
      "text/html": [
       "<span class=\"tex2jax_ignore\"><div class=\"entities\" style=\"line-height: 2.5; direction: ltr\">Maize residue retention shapes soil microbial communities and co-occurrence networks upon freeze-thawing cycles. Maize residue retention is an effective agricultural practice for improving soil fertility in black soil region, where suffered from long freezing-thawing periods and intense freeze-thawing (FT) cycles. However, very few studies have examined the influence of maize residue retention on soil microbial communities under FT cycles. We investigated the response of soil microbial communities and co-occurrence networks to maize residue retention at different FT intensities over 12 cycles using a microcosm experiment conditioned in a temperature incubator. Our results indicated that maize residue retention induced dramatic shifts in soil archaeal, bacterial and fungal communities towards copiotroph-dominated communities. Maize residue retention consistently reduced soil fungal richness across all cycles, but this effect was weaker for archaea and bacteria. Normalized stochastic ratio analysis revealed that maize residue retention significantly enhanced the deterministic process of archaeal, bacterial and fungal communities. Although FT intensity significantly impacted soil respiration, it did not induce profound changes in soil microbial diversity and community composition. Co-occurrence network analysis revealed that maize residue retention simplified prokaryotic network, while did not impact fungal network complexity. The network robustness index suggested that maize residue retention enhanced the fungal network stability, but reduced prokaryotic network stability. Moreover, the fungal network in severe FT treatment harbored the most abundant keystone taxa, mainly being cold-adapted fungi. By identifying modules in networks, we observed that prokaryotic Module #1 and fungal Module #3 were enhanced by maize residue retention and contributed greatly to soil quality. Together, our results showed that maize residue retention exerted stronger influence on soil microbial communities and co-occurrence network patterns than FT intensity and highlighted the potential of microbial interactions in improving soil functionality.</div></span>"
      ],
      "text/plain": [
       "<IPython.core.display.HTML object>"
      ]
     },
     "metadata": {},
     "output_type": "display_data"
    },
    {
     "name": "stdout",
     "output_type": "stream",
     "text": [
      "******************************************************************************************************************************************************\n",
      "\n",
      "\n",
      "******************************************************************************************************************************************************\n",
      "1/1 [==============================] - 0s 61ms/step\n"
     ]
    },
    {
     "data": {
      "text/html": [
       "<span class=\"tex2jax_ignore\"><div class=\"entities\" style=\"line-height: 2.5; direction: ltr\">Fully equipped CARs to address \n",
       "<mark class=\"entity\" style=\"background: #bebada; padding: 0.45em 0.6em; margin: 0 0.25em; line-height: 1; border-radius: 0.35em;\">\n",
       "    tumor\n",
       "    <span style=\"font-size: 0.8em; font-weight: bold; line-height: 1; border-radius: 0.35em; vertical-align: middle; margin-left: 0.5rem\">CANCER</span>\n",
       "</mark>\n",
       " heterogeneity, enhance safety, and improve the functionality of cellular immunotherapies. Although adoptive transfer of chimeric antigen receptor (CAR)-engineered T cells has achieved unprecedented response rates in patients with certain \n",
       "<mark class=\"entity\" style=\"background: #bebada; padding: 0.45em 0.6em; margin: 0 0.25em; line-height: 1; border-radius: 0.35em;\">\n",
       "    hematological malignancies\n",
       "    <span style=\"font-size: 0.8em; font-weight: bold; line-height: 1; border-radius: 0.35em; vertical-align: middle; margin-left: 0.5rem\">CANCER</span>\n",
       "</mark>\n",
       ", this therapeutic modality is still far from fulfilling its remarkable potential, especially in the context of \n",
       "<mark class=\"entity\" style=\"background: #bebada; padding: 0.45em 0.6em; margin: 0 0.25em; line-height: 1; border-radius: 0.35em;\">\n",
       "    solid cancers\n",
       "    <span style=\"font-size: 0.8em; font-weight: bold; line-height: 1; border-radius: 0.35em; vertical-align: middle; margin-left: 0.5rem\">CANCER</span>\n",
       "</mark>\n",
       ". Antigen escape variants, off-\n",
       "<mark class=\"entity\" style=\"background: #bebada; padding: 0.45em 0.6em; margin: 0 0.25em; line-height: 1; border-radius: 0.35em;\">\n",
       "    tumor\n",
       "    <span style=\"font-size: 0.8em; font-weight: bold; line-height: 1; border-radius: 0.35em; vertical-align: middle; margin-left: 0.5rem\">CANCER</span>\n",
       "</mark>\n",
       " destruction of healthy \n",
       "<mark class=\"entity\" style=\"background: #ffffb3; padding: 0.45em 0.6em; margin: 0 0.25em; line-height: 1; border-radius: 0.35em;\">\n",
       "    tissues\n",
       "    <span style=\"font-size: 0.8em; font-weight: bold; line-height: 1; border-radius: 0.35em; vertical-align: middle; margin-left: 0.5rem\">TISSUE</span>\n",
       "</mark>\n",
       " expressing \n",
       "<mark class=\"entity\" style=\"background: #bebada; padding: 0.45em 0.6em; margin: 0 0.25em; line-height: 1; border-radius: 0.35em;\">\n",
       "    tumor\n",
       "    <span style=\"font-size: 0.8em; font-weight: bold; line-height: 1; border-radius: 0.35em; vertical-align: middle; margin-left: 0.5rem\">CANCER</span>\n",
       "</mark>\n",
       "-associated antigens (TAAs), poor CAR-T cell persistence, and the occurrence of functional exhaustion represent some of the most prominent hurdles that limit CAR-T cell ability to induce long-lasting remissions with a tolerable adverse effect profile. In this review, we summarize the main approaches that have been developed to face such bottlenecks, including the adapter CAR (AdCAR) system, Boolean-logic gating, epitope editing, the modulation of cell-intrinsic signaling pathways, and the incorporation of safety switches to precisely control CAR-T cell activation. We also discuss the most pressing issues pertaining to the selection of co-stimulatory domains, with a focus on strategies aimed at promoting CAR-T cell persistence and optimal \n",
       "<mark class=\"entity\" style=\"background: #bebada; padding: 0.45em 0.6em; margin: 0 0.25em; line-height: 1; border-radius: 0.35em;\">\n",
       "    antitumor\n",
       "    <span style=\"font-size: 0.8em; font-weight: bold; line-height: 1; border-radius: 0.35em; vertical-align: middle; margin-left: 0.5rem\">CANCER</span>\n",
       "</mark>\n",
       " functionality.</div></span>"
      ],
      "text/plain": [
       "<IPython.core.display.HTML object>"
      ]
     },
     "metadata": {},
     "output_type": "display_data"
    },
    {
     "name": "stdout",
     "output_type": "stream",
     "text": [
      "******************************************************************************************************************************************************\n",
      "\n",
      "\n",
      "******************************************************************************************************************************************************\n",
      "1/1 [==============================] - 0s 63ms/step\n"
     ]
    },
    {
     "data": {
      "text/html": [
       "<span class=\"tex2jax_ignore\"><div class=\"entities\" style=\"line-height: 2.5; direction: ltr\">The most common mistakes in intensive care - antibiotics. The enormous increase in antibiotic resistance and the limited spectrum of new, effective antibiotics are the reasons why we should think about a rational approach to anti-infective therapy. The excessive and non-indicated use of antibiotics while treating critically ill patients can be found quite often in clinical practice. Antibiotic therapy is usually indicated empirically, or it is only based on therapeutic indecision, not just in ICU patients. The antibiotics are administered before taking a sample for microbiological analysis or there is no therapy adjustment based on the laboratory findings. The solution lies in antibiotic stewardship, which is the way to ensure that antibiotics will be sufficiently effective in years to come.</div></span>"
      ],
      "text/plain": [
       "<IPython.core.display.HTML object>"
      ]
     },
     "metadata": {},
     "output_type": "display_data"
    },
    {
     "name": "stdout",
     "output_type": "stream",
     "text": [
      "******************************************************************************************************************************************************\n",
      "\n",
      "\n",
      "******************************************************************************************************************************************************\n"
     ]
    }
   ],
   "source": [
    "for text in texts['text'].values:\n",
    "    doc = nlp(text)\n",
    "    \n",
    "    spans = []\n",
    "    for ent in ML_Tag(text, ml_model=nn_model, entity_type='ALL'):\n",
    "        spans.append(doc.char_span(int(ent[0]), int(ent[1]), ent[2].upper()))\n",
    "    \n",
    "    try:\n",
    "        doc.ents = spans\n",
    "    except:\n",
    "        doc.ents = []\n",
    "    \n",
    "    displacy.render(doc, style=\"ent\", options={'colors': COLORS})\n",
    "\n",
    "    print('*'*150)\n",
    "    print('\\n')\n",
    "    print('*'*150)"
   ]
  },
  {
   "cell_type": "code",
   "execution_count": null,
   "id": "3a52ceff-7a6a-4b47-ad9d-868bba0d7f14",
   "metadata": {},
   "outputs": [],
   "source": []
  }
 ],
 "metadata": {
  "kernelspec": {
   "display_name": "Python 3 (ipykernel)",
   "language": "python",
   "name": "python3"
  },
  "language_info": {
   "codemirror_mode": {
    "name": "ipython",
    "version": 3
   },
   "file_extension": ".py",
   "mimetype": "text/x-python",
   "name": "python",
   "nbconvert_exporter": "python",
   "pygments_lexer": "ipython3",
   "version": "3.9.18"
  }
 },
 "nbformat": 4,
 "nbformat_minor": 5
}
