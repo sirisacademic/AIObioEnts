{
 "cells": [
  {
   "cell_type": "code",
   "execution_count": null,
   "id": "b65aaee1-33fb-48d3-8fb7-e86c3e5fbd59",
   "metadata": {},
   "outputs": [],
   "source": [
    "%reload_ext autoreload\n",
    "%autoreload 2\n",
    "\n",
    "import sys\n",
    "sys.path.append('../src/')\n",
    "\n",
    "import pandas as pd\n",
    "from ipymarkup import show_span_box_markup\n",
    "\n",
    "from tagging_fn import process_one_text\n",
    "from transformers import pipeline"
   ]
  },
  {
   "cell_type": "code",
   "execution_count": 2,
   "id": "3dd2d022-529b-406a-a329-b67df376bf76",
   "metadata": {},
   "outputs": [],
   "source": [
    "texts = pd.read_csv('../data/PubMed_Jun24/PubMed_Jun24.csv').sample(2).reset_index(drop=True)\n",
    "texts['text'] = texts['title'] + ' ' + texts['abstract']"
   ]
  },
  {
   "cell_type": "code",
   "execution_count": 3,
   "id": "b5283416-85fe-4dda-8ae0-a46dc75e57e9",
   "metadata": {},
   "outputs": [
    {
     "data": {
      "text/html": [
       "<div>\n",
       "<style scoped>\n",
       "    .dataframe tbody tr th:only-of-type {\n",
       "        vertical-align: middle;\n",
       "    }\n",
       "\n",
       "    .dataframe tbody tr th {\n",
       "        vertical-align: top;\n",
       "    }\n",
       "\n",
       "    .dataframe thead th {\n",
       "        text-align: right;\n",
       "    }\n",
       "</style>\n",
       "<table border=\"1\" class=\"dataframe\">\n",
       "  <thead>\n",
       "    <tr style=\"text-align: right;\">\n",
       "      <th></th>\n",
       "      <th>pmid</th>\n",
       "      <th>title</th>\n",
       "      <th>abstract</th>\n",
       "      <th>text</th>\n",
       "    </tr>\n",
       "  </thead>\n",
       "  <tbody>\n",
       "    <tr>\n",
       "      <th>0</th>\n",
       "      <td>38887820</td>\n",
       "      <td>Clustering-resistant Cu Single Atoms on Porous...</td>\n",
       "      <td>Photocatalysts based on single atoms (SAs) mod...</td>\n",
       "      <td>Clustering-resistant Cu Single Atoms on Porous...</td>\n",
       "    </tr>\n",
       "    <tr>\n",
       "      <th>1</th>\n",
       "      <td>38887472</td>\n",
       "      <td>The Burden of Invasive Fungal Disease Followin...</td>\n",
       "      <td>Chimeric antigen receptor (CAR) T-cell therapy...</td>\n",
       "      <td>The Burden of Invasive Fungal Disease Followin...</td>\n",
       "    </tr>\n",
       "  </tbody>\n",
       "</table>\n",
       "</div>"
      ],
      "text/plain": [
       "       pmid                                              title  \\\n",
       "0  38887820  Clustering-resistant Cu Single Atoms on Porous...   \n",
       "1  38887472  The Burden of Invasive Fungal Disease Followin...   \n",
       "\n",
       "                                            abstract  \\\n",
       "0  Photocatalysts based on single atoms (SAs) mod...   \n",
       "1  Chimeric antigen receptor (CAR) T-cell therapy...   \n",
       "\n",
       "                                                text  \n",
       "0  Clustering-resistant Cu Single Atoms on Porous...  \n",
       "1  The Burden of Invasive Fungal Disease Followin...  "
      ]
     },
     "execution_count": 3,
     "metadata": {},
     "output_type": "execute_result"
    }
   ],
   "source": [
    "texts"
   ]
  },
  {
   "cell_type": "markdown",
   "id": "437879b8-afd9-4393-ac0c-1c7a7013d692",
   "metadata": {},
   "source": [
    "# Core entities"
   ]
  },
  {
   "cell_type": "code",
   "execution_count": 4,
   "id": "0ad5e9bb-2a1e-4f8a-9ad7-56a911b12cd3",
   "metadata": {},
   "outputs": [],
   "source": [
    "pipe = pipeline('ner', model='SIRIS-Lab/AIObioEnts-core-pubmedbert-full', aggregation_strategy='none', device=0)"
   ]
  },
  {
   "cell_type": "code",
   "execution_count": 5,
   "id": "8830488e-d74c-4036-931b-c1508e5ed86c",
   "metadata": {},
   "outputs": [
    {
     "data": {
      "text/html": [
       "<div class=\"tex2jax_ignore\" style=\"white-space: pre-wrap\">Clustering-resistant <span style=\"padding: 2px; border-radius: 4px; border: 1px solid #bbdefb; background: #e3f2fd\">Cu<span style=\"vertical-align: middle; margin-left: 2px; font-size: 0.7em; color: #64b5f6;\">Chemical</span></span> Single Atoms on Porous <span style=\"padding: 2px; border-radius: 4px; border: 1px solid #bbdefb; background: #e3f2fd\">Au<span style=\"vertical-align: middle; margin-left: 2px; font-size: 0.7em; color: #64b5f6;\">Chemical</span></span> Nanoparticles Supported by <span style=\"padding: 2px; border-radius: 4px; border: 1px solid #bbdefb; background: #e3f2fd\">TiO2<span style=\"vertical-align: middle; margin-left: 2px; font-size: 0.7em; color: #64b5f6;\">Chemical</span></span> for Sustainable Photoconversion of <span style=\"padding: 2px; border-radius: 4px; border: 1px solid #bbdefb; background: #e3f2fd\">CO2<span style=\"vertical-align: middle; margin-left: 2px; font-size: 0.7em; color: #64b5f6;\">Chemical</span></span> into <span style=\"padding: 2px; border-radius: 4px; border: 1px solid #bbdefb; background: #e3f2fd\">CH4<span style=\"vertical-align: middle; margin-left: 2px; font-size: 0.7em; color: #64b5f6;\">Chemical</span></span>. Photocatalysts based on single atoms (SAs) modification can lead to unprecedented reactivity with recent advances. However, the deactivation of SAs-modified photocatalysts remains a critical challenge in the field of photocatalytic <span style=\"padding: 2px; border-radius: 4px; border: 1px solid #bbdefb; background: #e3f2fd\">CO2<span style=\"vertical-align: middle; margin-left: 2px; font-size: 0.7em; color: #64b5f6;\">Chemical</span></span> reduction. In this study, we unveil the detrimental effect of <span style=\"padding: 2px; border-radius: 4px; border: 1px solid #bbdefb; background: #e3f2fd\">CO<span style=\"vertical-align: middle; margin-left: 2px; font-size: 0.7em; color: #64b5f6;\">Chemical</span></span> intermediates on <span style=\"padding: 2px; border-radius: 4px; border: 1px solid #bbdefb; background: #e3f2fd\">Cu<span style=\"vertical-align: middle; margin-left: 2px; font-size: 0.7em; color: #64b5f6;\">Chemical</span></span> single atoms (<span style=\"padding: 2px; border-radius: 4px; border: 1px solid #bbdefb; background: #e3f2fd\">Cu<span style=\"vertical-align: middle; margin-left: 2px; font-size: 0.7em; color: #64b5f6;\">Chemical</span></span>-SAs) during photocatalytic <span style=\"padding: 2px; border-radius: 4px; border: 1px solid #bbdefb; background: #e3f2fd\">CO2<span style=\"vertical-align: middle; margin-left: 2px; font-size: 0.7em; color: #64b5f6;\">Chemical</span></span> reduction, leading to clustering and deactivation on <span style=\"padding: 2px; border-radius: 4px; border: 1px solid #bbdefb; background: #e3f2fd\">TiO2<span style=\"vertical-align: middle; margin-left: 2px; font-size: 0.7em; color: #64b5f6;\">Chemical</span></span>. To address this, we developed a novel <span style=\"padding: 2px; border-radius: 4px; border: 1px solid #bbdefb; background: #e3f2fd\">Cu<span style=\"vertical-align: middle; margin-left: 2px; font-size: 0.7em; color: #64b5f6;\">Chemical</span></span>-SAs anchored on <span style=\"padding: 2px; border-radius: 4px; border: 1px solid #bbdefb; background: #e3f2fd\">Au<span style=\"vertical-align: middle; margin-left: 2px; font-size: 0.7em; color: #64b5f6;\">Chemical</span></span> porous nanoparticles (<span style=\"padding: 2px; border-radius: 4px; border: 1px solid #bbdefb; background: #e3f2fd\">CuAu<span style=\"vertical-align: middle; margin-left: 2px; font-size: 0.7em; color: #64b5f6;\">Chemical</span></span>-SAPNPs-<span style=\"padding: 2px; border-radius: 4px; border: 1px solid #bbdefb; background: #e3f2fd\">TiO2<span style=\"vertical-align: middle; margin-left: 2px; font-size: 0.7em; color: #64b5f6;\">Chemical</span></span>) via a vectored etching approach. This system not only enhances <span style=\"padding: 2px; border-radius: 4px; border: 1px solid #bbdefb; background: #e3f2fd\">CH4<span style=\"vertical-align: middle; margin-left: 2px; font-size: 0.7em; color: #64b5f6;\">Chemical</span></span> production with a rate of 748.8 µmol·g-1·h-1 and 93.1% selectivity but also mitigates <span style=\"padding: 2px; border-radius: 4px; border: 1px solid #bbdefb; background: #e3f2fd\">Cu<span style=\"vertical-align: middle; margin-left: 2px; font-size: 0.7em; color: #64b5f6;\">Chemical</span></span>-SAs clustering, maintaining stability over 7 days. This sustained high performance, despite the exceptionally high efficiency and selectivity in <span style=\"padding: 2px; border-radius: 4px; border: 1px solid #bbdefb; background: #e3f2fd\">CH4<span style=\"vertical-align: middle; margin-left: 2px; font-size: 0.7em; color: #64b5f6;\">Chemical</span></span> production, highlights the <span style=\"padding: 2px; border-radius: 4px; border: 1px solid #bbdefb; background: #e3f2fd\">CuAu<span style=\"vertical-align: middle; margin-left: 2px; font-size: 0.7em; color: #64b5f6;\">Chemical</span></span>-<span style=\"padding: 2px; border-radius: 4px; border: 1px solid #bbdefb; background: #e3f2fd\">SAPNPs<span style=\"vertical-align: middle; margin-left: 2px; font-size: 0.7em; color: #64b5f6;\">Chemical</span></span>-<span style=\"padding: 2px; border-radius: 4px; border: 1px solid #bbdefb; background: #e3f2fd\">TiO2<span style=\"vertical-align: middle; margin-left: 2px; font-size: 0.7em; color: #64b5f6;\">Chemical</span></span> overarching superior photocatalytic properties. Consequently, this work underscores the potential of tailored SAs-based systems for efficient and durable <span style=\"padding: 2px; border-radius: 4px; border: 1px solid #bbdefb; background: #e3f2fd\">CO2<span style=\"vertical-align: middle; margin-left: 2px; font-size: 0.7em; color: #64b5f6;\">Chemical</span></span> reduction by reshaping surface adsorption dynamics and optimizing the thermodynamic behavior of the SAs.</div>"
      ],
      "text/plain": [
       "<IPython.core.display.HTML object>"
      ]
     },
     "metadata": {},
     "output_type": "display_data"
    },
    {
     "name": "stderr",
     "output_type": "stream",
     "text": [
      "You seem to be using the pipelines sequentially on GPU. In order to maximize efficiency please use a dataset\n"
     ]
    },
    {
     "name": "stdout",
     "output_type": "stream",
     "text": [
      "******************************************************************************************************************************************************\n",
      "\n",
      "\n",
      "******************************************************************************************************************************************************\n"
     ]
    },
    {
     "data": {
      "text/html": [
       "<div class=\"tex2jax_ignore\" style=\"white-space: pre-wrap\">The Burden of <span style=\"padding: 2px; border-radius: 4px; border: 1px solid #c8e6c9; background: #e8f5e9\">Invasive Fungal Disease<span style=\"vertical-align: middle; margin-left: 2px; font-size: 0.7em; color: #66bb6a;\">Disease</span></span> Following Chimeric Antigen Receptor T-Cell Therapy and Strategies for Prevention. Chimeric antigen receptor (CAR) T-cell therapy is a novel immunotherapy approved for the treatment of <span style=\"padding: 2px; border-radius: 4px; border: 1px solid #c8e6c9; background: #e8f5e9\">hematologic malignancies<span style=\"vertical-align: middle; margin-left: 2px; font-size: 0.7em; color: #66bb6a;\">Disease</span></span>. This therapy leads to a variety of <span style=\"padding: 2px; border-radius: 4px; border: 1px solid #c8e6c9; background: #e8f5e9\">immunologic deficits<span style=\"vertical-align: middle; margin-left: 2px; font-size: 0.7em; color: #66bb6a;\">Disease</span></span> that could place <span style=\"padding: 2px; border-radius: 4px; border: 1px solid #ffcdd2; background: #ffebee\">patients<span style=\"vertical-align: middle; margin-left: 2px; font-size: 0.7em; color: #e57373;\">Species</span></span> at risk for <span style=\"padding: 2px; border-radius: 4px; border: 1px solid #c8e6c9; background: #e8f5e9\">invasive fungal disease<span style=\"vertical-align: middle; margin-left: 2px; font-size: 0.7em; color: #66bb6a;\">Disease</span></span> (<span style=\"padding: 2px; border-radius: 4px; border: 1px solid #c8e6c9; background: #e8f5e9\">IFD<span style=\"vertical-align: middle; margin-left: 2px; font-size: 0.7em; color: #66bb6a;\">Disease</span></span>). Studies assessing <span style=\"padding: 2px; border-radius: 4px; border: 1px solid #c8e6c9; background: #e8f5e9\">IFD<span style=\"vertical-align: middle; margin-left: 2px; font-size: 0.7em; color: #66bb6a;\">Disease</span></span> in this setting are limited by inconsistent definitions and heterogeneity in prophylaxis use, although the incidence of <span style=\"padding: 2px; border-radius: 4px; border: 1px solid #c8e6c9; background: #e8f5e9\">IFD<span style=\"vertical-align: middle; margin-left: 2px; font-size: 0.7em; color: #66bb6a;\">Disease</span></span> after <span style=\"padding: 2px; border-radius: 4px; border: 1px solid #ffe0b2; background: #fff3e0\">CAR<span style=\"vertical-align: middle; margin-left: 2px; font-size: 0.7em; color: #ffb74d;\">Gene</span></span> T-cell therapy, particularly for <span style=\"padding: 2px; border-radius: 4px; border: 1px solid #c8e6c9; background: #e8f5e9\">lymphoma<span style=\"vertical-align: middle; margin-left: 2px; font-size: 0.7em; color: #66bb6a;\">Disease</span></span> and <span style=\"padding: 2px; border-radius: 4px; border: 1px solid #c8e6c9; background: #e8f5e9\">myeloma<span style=\"vertical-align: middle; margin-left: 2px; font-size: 0.7em; color: #66bb6a;\">Disease</span></span>, appears to be low. This review evaluates the incidence of <span style=\"padding: 2px; border-radius: 4px; border: 1px solid #c8e6c9; background: #e8f5e9\">IFD<span style=\"vertical-align: middle; margin-left: 2px; font-size: 0.7em; color: #66bb6a;\">Disease</span></span> after <span style=\"padding: 2px; border-radius: 4px; border: 1px solid #ffe0b2; background: #fff3e0\">CAR<span style=\"vertical-align: middle; margin-left: 2px; font-size: 0.7em; color: #ffb74d;\">Gene</span></span> T-cell therapy, and discusses optimal approaches to prevention, highlighting areas that require further study as well as future applications of cellular therapy that may impact <span style=\"padding: 2px; border-radius: 4px; border: 1px solid #c8e6c9; background: #e8f5e9\">IFD<span style=\"vertical-align: middle; margin-left: 2px; font-size: 0.7em; color: #66bb6a;\">Disease</span></span> risk. As the use of CAR T-cell therapy continues to expand for <span style=\"padding: 2px; border-radius: 4px; border: 1px solid #c8e6c9; background: #e8f5e9\">hematologic malignancies<span style=\"vertical-align: middle; margin-left: 2px; font-size: 0.7em; color: #66bb6a;\">Disease</span></span>, <span style=\"padding: 2px; border-radius: 4px; border: 1px solid #c8e6c9; background: #e8f5e9\">solid tumors<span style=\"vertical-align: middle; margin-left: 2px; font-size: 0.7em; color: #66bb6a;\">Disease</span></span>, and most recently to include <span style=\"padding: 2px; border-radius: 4px; border: 1px solid #c8e6c9; background: #e8f5e9\">non-oncologic diseases<span style=\"vertical-align: middle; margin-left: 2px; font-size: 0.7em; color: #66bb6a;\">Disease</span></span>, understanding the risk for <span style=\"padding: 2px; border-radius: 4px; border: 1px solid #c8e6c9; background: #e8f5e9\">IFD<span style=\"vertical-align: middle; margin-left: 2px; font-size: 0.7em; color: #66bb6a;\">Disease</span></span> in this uniquely immunosuppressed population is imperative to prevent morbidity and mortality.</div>"
      ],
      "text/plain": [
       "<IPython.core.display.HTML object>"
      ]
     },
     "metadata": {},
     "output_type": "display_data"
    },
    {
     "name": "stdout",
     "output_type": "stream",
     "text": [
      "******************************************************************************************************************************************************\n",
      "\n",
      "\n",
      "******************************************************************************************************************************************************\n"
     ]
    }
   ],
   "source": [
    "for text in texts['text'].values:\n",
    "    results = process_one_text(text, pipe, 'ALL')\n",
    "    \n",
    "    spans = [(s['start'], s['end'], s['entity_group']) for s in results]\n",
    "    show_span_box_markup(text, spans)\n",
    "    \n",
    "    print('*'*150)\n",
    "    print('\\n')\n",
    "    print('*'*150)"
   ]
  },
  {
   "cell_type": "markdown",
   "id": "cd3062c9-6b5f-44ec-9742-f3f4d791db5c",
   "metadata": {},
   "source": [
    "# AnatEM entities"
   ]
  },
  {
   "cell_type": "code",
   "execution_count": null,
   "id": "be818f7e-c84f-4f41-be56-83e3c0e2db3b",
   "metadata": {},
   "outputs": [],
   "source": []
  }
 ],
 "metadata": {
  "kernelspec": {
   "display_name": "Python 3 (ipykernel)",
   "language": "python",
   "name": "python3"
  },
  "language_info": {
   "codemirror_mode": {
    "name": "ipython",
    "version": 3
   },
   "file_extension": ".py",
   "mimetype": "text/x-python",
   "name": "python",
   "nbconvert_exporter": "python",
   "pygments_lexer": "ipython3",
   "version": "3.9.18"
  }
 },
 "nbformat": 4,
 "nbformat_minor": 5
}
